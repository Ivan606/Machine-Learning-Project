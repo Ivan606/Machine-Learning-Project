{
 "cells": [
  {
   "cell_type": "markdown",
   "metadata": {},
   "source": [
    "# In this notebook, I used deep learning neural net and python library fast.ai to perform NLP sentiment analysis on IMDB movie reviews"
   ]
  },
  {
   "cell_type": "code",
   "execution_count": 1,
   "metadata": {},
   "outputs": [],
   "source": [
    "import glob\n",
    "import numpy as np\n",
    "import pandas as pd\n",
    "%reload_ext autoreload\n",
    "%autoreload 2\n",
    "%matplotlib inline\n",
    "from fastai.text import *"
   ]
  },
  {
   "cell_type": "markdown",
   "metadata": {},
   "source": [
    "# Download the IMDB movie reviews datasets from URL"
   ]
  },
  {
   "cell_type": "code",
   "execution_count": 11,
   "metadata": {},
   "outputs": [
    {
     "data": {
      "text/plain": [
       "[PosixPath('/Users/angelali/.fastai/data/imdb/.DS_Store'),\n",
       " PosixPath('/Users/angelali/.fastai/data/imdb/imdb.vocab'),\n",
       " PosixPath('/Users/angelali/.fastai/data/imdb/README'),\n",
       " PosixPath('/Users/angelali/.fastai/data/imdb/test'),\n",
       " PosixPath('/Users/angelali/.fastai/data/imdb/tmp_clas'),\n",
       " PosixPath('/Users/angelali/.fastai/data/imdb/tmp_lm'),\n",
       " PosixPath('/Users/angelali/.fastai/data/imdb/train'),\n",
       " PosixPath('/Users/angelali/.fastai/data/imdb/unsup')]"
      ]
     },
     "execution_count": 11,
     "metadata": {},
     "output_type": "execute_result"
    }
   ],
   "source": [
    "path = untar_data(URLs.IMDB)\n",
    "path.ls()"
   ]
  },
  {
   "cell_type": "markdown",
   "metadata": {},
   "source": [
    "# Preprocess the data"
   ]
  },
  {
   "cell_type": "code",
   "execution_count": 10,
   "metadata": {},
   "outputs": [],
   "source": [
    "# set databunch size to 20\n",
    "bs = 20"
   ]
  },
  {
   "cell_type": "markdown",
   "metadata": {},
   "source": [
    "load the raw data and my vocab file from different folders"
   ]
  },
  {
   "cell_type": "code",
   "execution_count": 19,
   "metadata": {},
   "outputs": [],
   "source": [
    "data_lm = (TextList.from_folder(path, vocab=data_lm.vocab)\n",
    "             #grab all the text files in path\n",
    "             .split_by_folder(valid='test')\n",
    "             #split by train and valid folder (that only keeps 'train' and 'test' so no need to filter)\n",
    "             .label_from_folder(classes=['neg', 'pos'])\n",
    "             #label them all with their folders\n",
    "             .databunch(bs=bs))\n"
   ]
  },
  {
   "cell_type": "code",
   "execution_count": 22,
   "metadata": {},
   "outputs": [],
   "source": [
    "data_lm = TextLMDataBunch.load(path, 'tmp_lm', bs=bs)"
   ]
  },
  {
   "cell_type": "code",
   "execution_count": 23,
   "metadata": {},
   "outputs": [
    {
     "data": {
      "text/html": [
       "<table border=\"1\" class=\"dataframe\">\n",
       "  <thead>\n",
       "    <tr style=\"text-align: right;\">\n",
       "      <th>idx</th>\n",
       "      <th>text</th>\n",
       "    </tr>\n",
       "  </thead>\n",
       "  <tbody>\n",
       "    <tr>\n",
       "      <td>0</td>\n",
       "      <td>original script that xxmaj david xxmaj dhawan has worked on . xxmaj this one was a complete bit y bit rip off xxmaj hitch . i have nothing against remakes as such , but this one is just so lousy that it makes you even hate the original one ( which was pretty decent ) . i fail to understand what actors like xxmaj salman and xxmaj govinda saw in</td>\n",
       "    </tr>\n",
       "    <tr>\n",
       "      <td>1</td>\n",
       "      <td>obvious . xxmaj avoid like xxmaj ebola crossed with plague . xxbos i have just recently seen xxmaj heaven 's xxmaj gate . xxmaj after i watched this 3 hr 40 min epic western that 's not a western , i read the book by xxmaj steven xxmaj bach . xxmaj after considering all events and the movie itself , i still think this movie is a complete waste of</td>\n",
       "    </tr>\n",
       "    <tr>\n",
       "      <td>2</td>\n",
       "      <td>on xxmaj zeffirelli 's part to omit that scene . xxmaj it also misplaced a lot of lines ( and cut others that i think should 've been put in ) , such as the line where xxmaj hamlet says to xxmaj ophelia \" xxmaj get thee to a nunnery , why xxunk thou be a breeder of sinners ? \" ; that line was supposed to have occurred in</td>\n",
       "    </tr>\n",
       "    <tr>\n",
       "      <td>3</td>\n",
       "      <td>movie . \\n\\n i have a lot of respect to other horror fans who can switch their brains off long enough to enjoy this crap , xxmaj they are more brain dead than i ever will be and that is some achievement ! 0 / 10 and that s generous . xxbos xxmaj as a xxmaj canadian xxmaj history major , my first thing to say : xxup historical xxup</td>\n",
       "    </tr>\n",
       "    <tr>\n",
       "      <td>4</td>\n",
       "      <td>of this garbage . xxmaj the direction is amateurish with annoying cuts and jerky movement that hides the fact that the killer is no where near the victims when he attacks . xxmaj and what a killer he is : a cheap skull mask and a black hood . i liked him better when he was fighting xxmaj he - xxmaj man . xxmaj this is one of the laziest</td>\n",
       "    </tr>\n",
       "  </tbody>\n",
       "</table>"
      ],
      "text/plain": [
       "<IPython.core.display.HTML object>"
      ]
     },
     "metadata": {},
     "output_type": "display_data"
    }
   ],
   "source": [
    "data_lm.show_batch()"
   ]
  },
  {
   "cell_type": "markdown",
   "metadata": {},
   "source": [
    "# Instantiate a language model with the pre-trained language model Wikitext103 and my data"
   ]
  },
  {
   "cell_type": "code",
   "execution_count": 25,
   "metadata": {},
   "outputs": [],
   "source": [
    "learn = language_model_learner(data_lm, AWD_LSTM, drop_mult=0.3)"
   ]
  },
  {
   "cell_type": "code",
   "execution_count": 26,
   "metadata": {},
   "outputs": [
    {
     "data": {
      "text/html": [],
      "text/plain": [
       "<IPython.core.display.HTML object>"
      ]
     },
     "metadata": {},
     "output_type": "display_data"
    },
    {
     "name": "stdout",
     "output_type": "stream",
     "text": [
      "LR Finder is complete, type {learner_name}.recorder.plot() to see the graph.\n"
     ]
    }
   ],
   "source": [
    "learn.lr_find()"
   ]
  },
  {
   "cell_type": "markdown",
   "metadata": {},
   "source": [
    "# Find a learning rate that minimize the loss function"
   ]
  },
  {
   "cell_type": "code",
   "execution_count": 28,
   "metadata": {
    "scrolled": false
   },
   "outputs": [
    {
     "data": {
      "image/png": "[encoded data removed]",
      "text/plain": [
       "<Figure size 432x288 with 1 Axes>"
      ]
     },
     "metadata": {
      "needs_background": "light"
     },
     "output_type": "display_data"
    }
   ],
   "source": [
    "learn.recorder.plot(skip_end=15)"
   ]
  },
  {
   "cell_type": "markdown",
   "metadata": {},
   "source": [
    "as we can see from above graph, the loss function is minimized when the learning rate is about 1e-2"
   ]
  },
  {
   "cell_type": "markdown",
   "metadata": {},
   "source": [
    "# Apply transfer learning to fine-tuning the language model "
   ]
  },
  {
   "cell_type": "code",
   "execution_count": 29,
   "metadata": {
    "scrolled": true
   },
   "outputs": [
    {
     "data": {
      "text/html": [
       "<table border=\"1\" class=\"dataframe\">\n",
       "  <thead>\n",
       "    <tr style=\"text-align: left;\">\n",
       "      <th>epoch</th>\n",
       "      <th>train_loss</th>\n",
       "      <th>valid_loss</th>\n",
       "      <th>accuracy</th>\n",
       "      <th>time</th>\n",
       "    </tr>\n",
       "  </thead>\n",
       "  <tbody>\n",
       "    <tr>\n",
       "      <td>0</td>\n",
       "      <td>4.325061</td>\n",
       "      <td>4.194555</td>\n",
       "      <td>0.284973</td>\n",
       "      <td>9:18:32</td>\n",
       "    </tr>\n",
       "  </tbody>\n",
       "</table>"
      ],
      "text/plain": [
       "<IPython.core.display.HTML object>"
      ]
     },
     "metadata": {},
     "output_type": "display_data"
    }
   ],
   "source": [
    "learn.fit_one_cycle(1, 1e-2, moms=(0.8,0.7))"
   ]
  },
  {
   "cell_type": "code",
   "execution_count": 30,
   "metadata": {},
   "outputs": [],
   "source": [
    "learn.save('fit_head')"
   ]
  },
  {
   "cell_type": "code",
   "execution_count": 31,
   "metadata": {},
   "outputs": [
    {
     "data": {
      "text/plain": [
       "LanguageLearner(data=TextLMDataBunch;\n",
       "\n",
       "Train: LabelList (45000 items)\n",
       "x: LMTextList\n",
       "xxbos i did n't know what to expect when i started watching this movie , by the end of it i was pulling my hairs out . xxmaj this was one of the most pathetic movies of this year ... in fact , in the last ten years . xxmaj david xxmaj dhawan should just give up his career as a director . i am yet to come across one original script that xxmaj david xxmaj dhawan has worked on . xxmaj this one was a complete bit y bit rip off xxmaj hitch . i have nothing against remakes as such , but this one is just so lousy that it makes you even hate the original one ( which was pretty decent ) . i fail to understand what actors like xxmaj salman and xxmaj govinda saw in this script . i read somewhere , that this was supposed to be xxmaj govinda 's comeback vehicle . xxmaj if that s true , then only xxmaj god can save his career . xxmaj salman just overacted to the hilt . xxmaj govinda who i think is an actor of very high caliber was completely wasted . xxmaj katrina xxmaj kaif and lara xxmaj dutta had nothing to do apart form wearing designer clothes and smiling for no rhyme or reason . xxmaj please stay away form this one !,xxbos xxmaj for several reasons , this movie is simply awful . xxmaj other posters have listed some of this movie 's historical errors . xxmaj well , i have a layman 's knowledge of xxmaj roman history and even i found the inaccuracies flagrant . i usually forgive errors in historical movies because i understand that the purpose is to entertain not educate . xxmaj and shrinking a long saga down to a two hour feature requires some , let 's say , historical license . xxmaj but this movie goes well beyond mere rounding . \n",
       "\n",
       " xxmaj there 's worse . xxmaj to tell a story from a distant period , the movie uses flashbacks which just make the story more confusing . xxmaj unless viewers have some prior knowledge of the period , they will quickly be lost . xxmaj in addition , the movie was obviously filmed simultaneously in xxmaj italian and xxmaj english with various actors being dubbed later . xxmaj at times , the actors seem as if they were in completely different movies which were then edited together . xxmaj in fact , this is not far wrong . xxmaj the actors were obviously pasted onto a cheesy computer generated ancient xxmaj rome . \n",
       "\n",
       " xxmaj the only reason i give this boring mess any stars is because i always find xxmaj peter o'toole entertaining . xxmaj but that is no reason to rent it . xxmaj if you are curious about xxmaj roman history , there are much better movies available .,xxbos xxmaj remember those terrible war movies your grandmother forced you to watch 25 or so years ago on your old xxup vhs recorder ? \" xxmaj the xxmaj fallen \" is just a bad executed remake of those movies ! xxmaj the story is terrible , the direction is terrible , the editing is terrible , the music is terrible , and all together make an unbearable nightmare . \n",
       "\n",
       " xxmaj it is also terribly slow ! xxmaj very slow ! i tried to sleep while watching it but i could n't do it because i had nightmares of it . \n",
       "\n",
       " xxmaj please do n't watch this movie ! xxmaj it is xxup that bad ! xxmaj ten lines is a lot so i do n't know what else to say . \n",
       "\n",
       " xxmaj press the eject button xxup now and you wo nt regret it !,xxbos a post - apocalyptic warrior goes off to save some kind of xxmaj nun and on the way meets some cyber - punks on skates who want to kick his ass . xxmaj this is one of the hardest to watch films ever , xxmaj there are scenes with silence that seems to last hours before somebody comes out with the next badly written , badly acted line . xxmaj there are action sequences that keep repeating - and we 're not talking the quickfire 1 - 2 - 3 action repeat on a particularly good kick that was made popular by eastern directors , we 're talking many , many repeats of long , bad fight sequences . xxmaj this is incredibly confusing at first but then quickly becomes annoying as you 're watching a 30 second sequence for the 2nd , 3rd and 4th time . xxmaj any kind of plot or vision is lost within the confusing continuity , the only thing that s keeps this film in the xxunk ( apart from the bet from a friend that i could n't watch it all the way through without begging for it to be turned off and disposed off safely so it may harm no - one else ) is the fact that although painful , this film is unintentionally hilarious , i 'm not at all a fan of those \" so bad that it 's funny \" type of films but at parts i was in tears . xxmaj other points to note are the quality of the sound and picture but this is forgiveable as it 's obvious money was a major problem in the making of this film . xxmaj final verdict - xxmaj king of the \" so bad they 're funny \" genre , anybody having that kind of genre video night should get themselves a copy . xxmaj also lets not forget that it is actually the worst film i 've ever seen .,xxbos i believe that this movie was a terrible waste of my time , and i would know after watching it 5 times in class . this movie does not show what absolutely perfectly happened during these times . no one can truly say that these things happened to the letter . if anything the only good part would be the actors , even tho that they were really really xxunk were reading the script without expression . quite boring . i would rather watch play school . so i would definitely like to never ever see this movie again in my whole life . it is a complete waste of time unless you want your time to be wasted and if you would like to see an unrealistic view of what happened back in 1981 .\n",
       "y: LMLabelList\n",
       ",,,,\n",
       "Path: /Users/angelali/.fastai/data/imdb;\n",
       "\n",
       "Valid: LabelList (5000 items)\n",
       "x: LMTextList\n",
       "xxbos i came in in the middle of this film so i had no idea about any credits or even its title till i looked it up here , where i see that it has received a mixed reception by your commentators . i 'm on the positive side regarding this film but one thing really caught my attention as i watched : the beautiful and sensitive score written in a xxmaj xxunk xxmaj americana style . xxmaj my surprise was great when i discovered the score to have been written by none other than xxmaj john xxmaj williams himself . xxmaj true he has written sensitive and poignant scores such as xxmaj schindler 's xxmaj list but one usually associates his name with such xxunk as xxmaj star xxmaj wars . xxmaj but in my opinion what xxmaj williams has written for this movie surpasses anything i 've ever heard of his for tenderness , sensitivity and beauty , fully in keeping with the tender and lovely plot of the movie . xxmaj and another recent score of his , for xxmaj catch xxmaj me if xxmaj you xxmaj can , shows still more wit and sophistication . xxmaj as to xxmaj stanley and xxmaj iris , i like education movies like xxmaj how xxmaj green was my xxmaj valley and xxmaj xxunk , that one with xxmaj john xxmaj xxunk and his young xxmaj african xxmaj american charges in xxmaj south xxmaj carolina , and xxmaj danny devito 's xxmaj renaissance xxmaj man , etc . xxmaj they tell a necessary story of intellectual and spiritual awakening , a story which ca n't be told often enough . xxmaj this one is an excellent addition to that genre .,xxbos i noticed that a xxup new xxup hope and xxup the xxup empire xxup strikes xxup back are in the xxup top 10 , but that this one is n't even in the xxup top 100 . \n",
       "\n",
       " xxmaj this movie has a bad reputation because of xxmaj ewoks , but there are so many reasons to love this movie : \n",
       "\n",
       " -the xxmaj rescue of xxmaj han xxmaj solo from xxmaj jabba : xxmaj this official wraps up the xxmaj han xxmaj solo in debt sub - plot that was established when we first met the character in a xxup new xxup hope . \n",
       "\n",
       " -the xxmaj emperor was xxmaj finally xxmaj xxunk : xxmaj well alright this might not work as well now that the prequels are out but this was the first time we saw xxmaj the xxmaj emperor as kids . \n",
       "\n",
       " -the xxmaj speeder xxmaj bike xxmaj chase : xxmaj alright , so this was a special effects moment . xxmaj but it was definitely one of the most memorable and exciting moments in all the films ! \n",
       "\n",
       " -the 3 xxmaj part xxmaj climax : 1 ) xxmaj the xxmaj battle of xxmaj endor ( xxmaj led by xxmaj han and xxmaj leia ) 2 ) xxmaj luke xxmaj confronts his xxmaj father & xxmaj the xxmaj fall of the xxmaj emperor 3 ) xxmaj the xxmaj destruction of the xxmaj second xxmaj death xxmaj star ( xxmaj lando 's xxmaj moment ) \n",
       "\n",
       " -the xxmaj final xxmaj celebration with xxmaj our xxmaj heroes : xxmaj like i said , this movie gets a lot of crap because of the xxmaj ewoks but i think it 's kind of cool that while the entire galaxy celebrates the xxup fall xxup of xxup the xxup empire , our heroes are having their own private party in the woods with each other . \n",
       "\n",
       " xxmaj all in all this was a great final chapter for our heroes and a fitting end to the xxup star xxup wars story .,xxbos i saw this movie only after hearing raves about it for years . xxmaj needless to say , the actual experience proved a bit anticlimactic . xxmaj but still , xxmaj alec xxmaj guiness energetically leads a wonderful cast in a jolly , if formulaic , romp through industrial post - xxup wwii xxmaj england . \n",
       "\n",
       " xxmaj this is the familiar tale of the woes of inventing the perfect everyday product . xxmaj remember the car that runs on water ? xxmaj remember the promise of nuclear energy ? xxmaj in this case , it 's a fabric that does n't wear out , wrinkle , or even get dirty ! xxmaj of course , fabric manufacturers and their workers are horrified at the prospect of being put out of business , and so the plot gets a bit thick . \n",
       "\n",
       " xxmaj guiness makes the whole enterprise worthwhile , and watching him blow up a factory research lab over and over again is quite a blast ! ( xxmaj those xxmaj brits ... always the stiff upper lip when under fire . ) xxmaj the film might chug along exactly like xxmaj guiness 's goofy invention , but it 's a good ride all the same .,xxbos xxmaj mercifully , there 's no video of this wannabe western that a stay - afloat vehicle for xxmaj big xxmaj frank at a time when his career was floundering . xxmaj the story of a weasel who lives on the reputation of his big gun brother and who gets run out of town by bad guys only to return to rally his xxunk with a new found courage must have been written by a back - room writer . xxmaj all in all , this show stinks . xxmaj the story is basically boring , ill - conceived and so naive that it can offend your intelligence . i must depart complete from the other reviewer who found it \" ... underrated ... \" xxmaj the critics slammed it at the time and deservedly so . xxmaj you 'll have to catch it on the last show , if you up late and having a bout of insomnia . xxmaj but , if you can sit through it , you 've more fortitude than most of my movie buff friends .,xxbos xxmaj i´m not surprised that even cowgirls get the blues if this movie is anything to go by . i expected something better from xxmaj uma xxmaj thurman , which was the reason i suffered my way through this experience in the first place . xxmaj an awful film with only the music as a redeeming quality . xxmaj it´s just a shame that we are incapable of giving 0 out of 10 in these reviews . xxmaj this movie deserves it .\n",
       "y: LMLabelList\n",
       ",,,,\n",
       "Path: /Users/angelali/.fastai/data/imdb;\n",
       "\n",
       "Test: None, model=SequentialRNN(\n",
       "  (0): AWD_LSTM(\n",
       "    (encoder): Embedding(49948, 400, padding_idx=1)\n",
       "    (encoder_dp): EmbeddingDropout(\n",
       "      (emb): Embedding(49948, 400, padding_idx=1)\n",
       "    )\n",
       "    (rnns): ModuleList(\n",
       "      (0): WeightDropout(\n",
       "        (module): LSTM(400, 1150, batch_first=True)\n",
       "      )\n",
       "      (1): WeightDropout(\n",
       "        (module): LSTM(1150, 1150, batch_first=True)\n",
       "      )\n",
       "      (2): WeightDropout(\n",
       "        (module): LSTM(1150, 400, batch_first=True)\n",
       "      )\n",
       "    )\n",
       "    (input_dp): RNNDropout()\n",
       "    (hidden_dps): ModuleList(\n",
       "      (0): RNNDropout()\n",
       "      (1): RNNDropout()\n",
       "      (2): RNNDropout()\n",
       "    )\n",
       "  )\n",
       "  (1): LinearDecoder(\n",
       "    (decoder): Linear(in_features=400, out_features=49948, bias=True)\n",
       "    (output_dp): RNNDropout()\n",
       "  )\n",
       "), opt_func=functools.partial(<class 'torch.optim.adam.Adam'>, betas=(0.9, 0.99)), loss_func=FlattenedLoss of CrossEntropyLoss(), metrics=[<function accuracy at 0x1a275d4158>], true_wd=True, bn_wd=True, wd=0.01, train_bn=True, path=PosixPath('/Users/angelali/.fastai/data/imdb'), model_dir='models', callback_fns=[functools.partial(<class 'fastai.basic_train.Recorder'>, add_time=True, silent=False)], callbacks=[RNNTrainer\n",
       "learn: ...\n",
       "alpha: 2.0\n",
       "beta: 1.0], layer_groups=[Sequential(\n",
       "  (0): WeightDropout(\n",
       "    (module): LSTM(400, 1150, batch_first=True)\n",
       "  )\n",
       "  (1): RNNDropout()\n",
       "), Sequential(\n",
       "  (0): WeightDropout(\n",
       "    (module): LSTM(1150, 1150, batch_first=True)\n",
       "  )\n",
       "  (1): RNNDropout()\n",
       "), Sequential(\n",
       "  (0): WeightDropout(\n",
       "    (module): LSTM(1150, 400, batch_first=True)\n",
       "  )\n",
       "  (1): RNNDropout()\n",
       "), Sequential(\n",
       "  (0): Embedding(49948, 400, padding_idx=1)\n",
       "  (1): EmbeddingDropout(\n",
       "    (emb): Embedding(49948, 400, padding_idx=1)\n",
       "  )\n",
       "  (2): LinearDecoder(\n",
       "    (decoder): Linear(in_features=400, out_features=49948, bias=True)\n",
       "    (output_dp): RNNDropout()\n",
       "  )\n",
       ")], add_time=True, silent=None)"
      ]
     },
     "execution_count": 31,
     "metadata": {},
     "output_type": "execute_result"
    }
   ],
   "source": [
    "learn.load('fit_head')"
   ]
  },
  {
   "cell_type": "code",
   "execution_count": 32,
   "metadata": {},
   "outputs": [],
   "source": [
    "learn.unfreeze()"
   ]
  },
  {
   "cell_type": "code",
   "execution_count": 33,
   "metadata": {},
   "outputs": [],
   "source": [
    "learn.save('fine_tuned')"
   ]
  },
  {
   "cell_type": "code",
   "execution_count": 34,
   "metadata": {},
   "outputs": [
    {
     "data": {
      "text/plain": [
       "LanguageLearner(data=TextLMDataBunch;\n",
       "\n",
       "Train: LabelList (45000 items)\n",
       "x: LMTextList\n",
       "xxbos i did n't know what to expect when i started watching this movie , by the end of it i was pulling my hairs out . xxmaj this was one of the most pathetic movies of this year ... in fact , in the last ten years . xxmaj david xxmaj dhawan should just give up his career as a director . i am yet to come across one original script that xxmaj david xxmaj dhawan has worked on . xxmaj this one was a complete bit y bit rip off xxmaj hitch . i have nothing against remakes as such , but this one is just so lousy that it makes you even hate the original one ( which was pretty decent ) . i fail to understand what actors like xxmaj salman and xxmaj govinda saw in this script . i read somewhere , that this was supposed to be xxmaj govinda 's comeback vehicle . xxmaj if that s true , then only xxmaj god can save his career . xxmaj salman just overacted to the hilt . xxmaj govinda who i think is an actor of very high caliber was completely wasted . xxmaj katrina xxmaj kaif and lara xxmaj dutta had nothing to do apart form wearing designer clothes and smiling for no rhyme or reason . xxmaj please stay away form this one !,xxbos xxmaj for several reasons , this movie is simply awful . xxmaj other posters have listed some of this movie 's historical errors . xxmaj well , i have a layman 's knowledge of xxmaj roman history and even i found the inaccuracies flagrant . i usually forgive errors in historical movies because i understand that the purpose is to entertain not educate . xxmaj and shrinking a long saga down to a two hour feature requires some , let 's say , historical license . xxmaj but this movie goes well beyond mere rounding . \n",
       "\n",
       " xxmaj there 's worse . xxmaj to tell a story from a distant period , the movie uses flashbacks which just make the story more confusing . xxmaj unless viewers have some prior knowledge of the period , they will quickly be lost . xxmaj in addition , the movie was obviously filmed simultaneously in xxmaj italian and xxmaj english with various actors being dubbed later . xxmaj at times , the actors seem as if they were in completely different movies which were then edited together . xxmaj in fact , this is not far wrong . xxmaj the actors were obviously pasted onto a cheesy computer generated ancient xxmaj rome . \n",
       "\n",
       " xxmaj the only reason i give this boring mess any stars is because i always find xxmaj peter o'toole entertaining . xxmaj but that is no reason to rent it . xxmaj if you are curious about xxmaj roman history , there are much better movies available .,xxbos xxmaj remember those terrible war movies your grandmother forced you to watch 25 or so years ago on your old xxup vhs recorder ? \" xxmaj the xxmaj fallen \" is just a bad executed remake of those movies ! xxmaj the story is terrible , the direction is terrible , the editing is terrible , the music is terrible , and all together make an unbearable nightmare . \n",
       "\n",
       " xxmaj it is also terribly slow ! xxmaj very slow ! i tried to sleep while watching it but i could n't do it because i had nightmares of it . \n",
       "\n",
       " xxmaj please do n't watch this movie ! xxmaj it is xxup that bad ! xxmaj ten lines is a lot so i do n't know what else to say . \n",
       "\n",
       " xxmaj press the eject button xxup now and you wo nt regret it !,xxbos a post - apocalyptic warrior goes off to save some kind of xxmaj nun and on the way meets some cyber - punks on skates who want to kick his ass . xxmaj this is one of the hardest to watch films ever , xxmaj there are scenes with silence that seems to last hours before somebody comes out with the next badly written , badly acted line . xxmaj there are action sequences that keep repeating - and we 're not talking the quickfire 1 - 2 - 3 action repeat on a particularly good kick that was made popular by eastern directors , we 're talking many , many repeats of long , bad fight sequences . xxmaj this is incredibly confusing at first but then quickly becomes annoying as you 're watching a 30 second sequence for the 2nd , 3rd and 4th time . xxmaj any kind of plot or vision is lost within the confusing continuity , the only thing that s keeps this film in the xxunk ( apart from the bet from a friend that i could n't watch it all the way through without begging for it to be turned off and disposed off safely so it may harm no - one else ) is the fact that although painful , this film is unintentionally hilarious , i 'm not at all a fan of those \" so bad that it 's funny \" type of films but at parts i was in tears . xxmaj other points to note are the quality of the sound and picture but this is forgiveable as it 's obvious money was a major problem in the making of this film . xxmaj final verdict - xxmaj king of the \" so bad they 're funny \" genre , anybody having that kind of genre video night should get themselves a copy . xxmaj also lets not forget that it is actually the worst film i 've ever seen .,xxbos i believe that this movie was a terrible waste of my time , and i would know after watching it 5 times in class . this movie does not show what absolutely perfectly happened during these times . no one can truly say that these things happened to the letter . if anything the only good part would be the actors , even tho that they were really really xxunk were reading the script without expression . quite boring . i would rather watch play school . so i would definitely like to never ever see this movie again in my whole life . it is a complete waste of time unless you want your time to be wasted and if you would like to see an unrealistic view of what happened back in 1981 .\n",
       "y: LMLabelList\n",
       ",,,,\n",
       "Path: /Users/angelali/.fastai/data/imdb;\n",
       "\n",
       "Valid: LabelList (5000 items)\n",
       "x: LMTextList\n",
       "xxbos i came in in the middle of this film so i had no idea about any credits or even its title till i looked it up here , where i see that it has received a mixed reception by your commentators . i 'm on the positive side regarding this film but one thing really caught my attention as i watched : the beautiful and sensitive score written in a xxmaj xxunk xxmaj americana style . xxmaj my surprise was great when i discovered the score to have been written by none other than xxmaj john xxmaj williams himself . xxmaj true he has written sensitive and poignant scores such as xxmaj schindler 's xxmaj list but one usually associates his name with such xxunk as xxmaj star xxmaj wars . xxmaj but in my opinion what xxmaj williams has written for this movie surpasses anything i 've ever heard of his for tenderness , sensitivity and beauty , fully in keeping with the tender and lovely plot of the movie . xxmaj and another recent score of his , for xxmaj catch xxmaj me if xxmaj you xxmaj can , shows still more wit and sophistication . xxmaj as to xxmaj stanley and xxmaj iris , i like education movies like xxmaj how xxmaj green was my xxmaj valley and xxmaj xxunk , that one with xxmaj john xxmaj xxunk and his young xxmaj african xxmaj american charges in xxmaj south xxmaj carolina , and xxmaj danny devito 's xxmaj renaissance xxmaj man , etc . xxmaj they tell a necessary story of intellectual and spiritual awakening , a story which ca n't be told often enough . xxmaj this one is an excellent addition to that genre .,xxbos i noticed that a xxup new xxup hope and xxup the xxup empire xxup strikes xxup back are in the xxup top 10 , but that this one is n't even in the xxup top 100 . \n",
       "\n",
       " xxmaj this movie has a bad reputation because of xxmaj ewoks , but there are so many reasons to love this movie : \n",
       "\n",
       " -the xxmaj rescue of xxmaj han xxmaj solo from xxmaj jabba : xxmaj this official wraps up the xxmaj han xxmaj solo in debt sub - plot that was established when we first met the character in a xxup new xxup hope . \n",
       "\n",
       " -the xxmaj emperor was xxmaj finally xxmaj xxunk : xxmaj well alright this might not work as well now that the prequels are out but this was the first time we saw xxmaj the xxmaj emperor as kids . \n",
       "\n",
       " -the xxmaj speeder xxmaj bike xxmaj chase : xxmaj alright , so this was a special effects moment . xxmaj but it was definitely one of the most memorable and exciting moments in all the films ! \n",
       "\n",
       " -the 3 xxmaj part xxmaj climax : 1 ) xxmaj the xxmaj battle of xxmaj endor ( xxmaj led by xxmaj han and xxmaj leia ) 2 ) xxmaj luke xxmaj confronts his xxmaj father & xxmaj the xxmaj fall of the xxmaj emperor 3 ) xxmaj the xxmaj destruction of the xxmaj second xxmaj death xxmaj star ( xxmaj lando 's xxmaj moment ) \n",
       "\n",
       " -the xxmaj final xxmaj celebration with xxmaj our xxmaj heroes : xxmaj like i said , this movie gets a lot of crap because of the xxmaj ewoks but i think it 's kind of cool that while the entire galaxy celebrates the xxup fall xxup of xxup the xxup empire , our heroes are having their own private party in the woods with each other . \n",
       "\n",
       " xxmaj all in all this was a great final chapter for our heroes and a fitting end to the xxup star xxup wars story .,xxbos i saw this movie only after hearing raves about it for years . xxmaj needless to say , the actual experience proved a bit anticlimactic . xxmaj but still , xxmaj alec xxmaj guiness energetically leads a wonderful cast in a jolly , if formulaic , romp through industrial post - xxup wwii xxmaj england . \n",
       "\n",
       " xxmaj this is the familiar tale of the woes of inventing the perfect everyday product . xxmaj remember the car that runs on water ? xxmaj remember the promise of nuclear energy ? xxmaj in this case , it 's a fabric that does n't wear out , wrinkle , or even get dirty ! xxmaj of course , fabric manufacturers and their workers are horrified at the prospect of being put out of business , and so the plot gets a bit thick . \n",
       "\n",
       " xxmaj guiness makes the whole enterprise worthwhile , and watching him blow up a factory research lab over and over again is quite a blast ! ( xxmaj those xxmaj brits ... always the stiff upper lip when under fire . ) xxmaj the film might chug along exactly like xxmaj guiness 's goofy invention , but it 's a good ride all the same .,xxbos xxmaj mercifully , there 's no video of this wannabe western that a stay - afloat vehicle for xxmaj big xxmaj frank at a time when his career was floundering . xxmaj the story of a weasel who lives on the reputation of his big gun brother and who gets run out of town by bad guys only to return to rally his xxunk with a new found courage must have been written by a back - room writer . xxmaj all in all , this show stinks . xxmaj the story is basically boring , ill - conceived and so naive that it can offend your intelligence . i must depart complete from the other reviewer who found it \" ... underrated ... \" xxmaj the critics slammed it at the time and deservedly so . xxmaj you 'll have to catch it on the last show , if you up late and having a bout of insomnia . xxmaj but , if you can sit through it , you 've more fortitude than most of my movie buff friends .,xxbos xxmaj i´m not surprised that even cowgirls get the blues if this movie is anything to go by . i expected something better from xxmaj uma xxmaj thurman , which was the reason i suffered my way through this experience in the first place . xxmaj an awful film with only the music as a redeeming quality . xxmaj it´s just a shame that we are incapable of giving 0 out of 10 in these reviews . xxmaj this movie deserves it .\n",
       "y: LMLabelList\n",
       ",,,,\n",
       "Path: /Users/angelali/.fastai/data/imdb;\n",
       "\n",
       "Test: None, model=SequentialRNN(\n",
       "  (0): AWD_LSTM(\n",
       "    (encoder): Embedding(49948, 400, padding_idx=1)\n",
       "    (encoder_dp): EmbeddingDropout(\n",
       "      (emb): Embedding(49948, 400, padding_idx=1)\n",
       "    )\n",
       "    (rnns): ModuleList(\n",
       "      (0): WeightDropout(\n",
       "        (module): LSTM(400, 1150, batch_first=True)\n",
       "      )\n",
       "      (1): WeightDropout(\n",
       "        (module): LSTM(1150, 1150, batch_first=True)\n",
       "      )\n",
       "      (2): WeightDropout(\n",
       "        (module): LSTM(1150, 400, batch_first=True)\n",
       "      )\n",
       "    )\n",
       "    (input_dp): RNNDropout()\n",
       "    (hidden_dps): ModuleList(\n",
       "      (0): RNNDropout()\n",
       "      (1): RNNDropout()\n",
       "      (2): RNNDropout()\n",
       "    )\n",
       "  )\n",
       "  (1): LinearDecoder(\n",
       "    (decoder): Linear(in_features=400, out_features=49948, bias=True)\n",
       "    (output_dp): RNNDropout()\n",
       "  )\n",
       "), opt_func=functools.partial(<class 'torch.optim.adam.Adam'>, betas=(0.9, 0.99)), loss_func=FlattenedLoss of CrossEntropyLoss(), metrics=[<function accuracy at 0x1a275d4158>], true_wd=True, bn_wd=True, wd=0.01, train_bn=True, path=PosixPath('/Users/angelali/.fastai/data/imdb'), model_dir='models', callback_fns=[functools.partial(<class 'fastai.basic_train.Recorder'>, add_time=True, silent=False)], callbacks=[RNNTrainer\n",
       "learn: ...\n",
       "alpha: 2.0\n",
       "beta: 1.0], layer_groups=[Sequential(\n",
       "  (0): WeightDropout(\n",
       "    (module): LSTM(400, 1150, batch_first=True)\n",
       "  )\n",
       "  (1): RNNDropout()\n",
       "), Sequential(\n",
       "  (0): WeightDropout(\n",
       "    (module): LSTM(1150, 1150, batch_first=True)\n",
       "  )\n",
       "  (1): RNNDropout()\n",
       "), Sequential(\n",
       "  (0): WeightDropout(\n",
       "    (module): LSTM(1150, 400, batch_first=True)\n",
       "  )\n",
       "  (1): RNNDropout()\n",
       "), Sequential(\n",
       "  (0): Embedding(49948, 400, padding_idx=1)\n",
       "  (1): EmbeddingDropout(\n",
       "    (emb): Embedding(49948, 400, padding_idx=1)\n",
       "  )\n",
       "  (2): LinearDecoder(\n",
       "    (decoder): Linear(in_features=400, out_features=49948, bias=True)\n",
       "    (output_dp): RNNDropout()\n",
       "  )\n",
       ")], add_time=True, silent=None)"
      ]
     },
     "execution_count": 34,
     "metadata": {},
     "output_type": "execute_result"
    }
   ],
   "source": [
    "learn.load('fine_tuned')"
   ]
  },
  {
   "cell_type": "code",
   "execution_count": 37,
   "metadata": {},
   "outputs": [],
   "source": [
    "learn.save_encoder('fine_tuned_enc')"
   ]
  },
  {
   "cell_type": "markdown",
   "metadata": {},
   "source": [
    "preproccessing the data again, eg: remove stop words and punctuation, and stemming words"
   ]
  },
  {
   "cell_type": "code",
   "execution_count": null,
   "metadata": {},
   "outputs": [],
   "source": [
    "path = untar_data(URLs.IMDB)"
   ]
  },
  {
   "cell_type": "code",
   "execution_count": 39,
   "metadata": {},
   "outputs": [],
   "source": [
    "bs2 = 10"
   ]
  },
  {
   "cell_type": "code",
   "execution_count": 45,
   "metadata": {},
   "outputs": [],
   "source": [
    "data_clas = TextClasDataBunch.load(path, 'tmp_clas', bs=bs2)"
   ]
  },
  {
   "cell_type": "code",
   "execution_count": 46,
   "metadata": {},
   "outputs": [
    {
     "data": {
      "text/html": [
       "<table border=\"1\" class=\"dataframe\">\n",
       "  <thead>\n",
       "    <tr style=\"text-align: right;\">\n",
       "      <th>text</th>\n",
       "      <th>target</th>\n",
       "    </tr>\n",
       "  </thead>\n",
       "  <tbody>\n",
       "    <tr>\n",
       "      <td>xxbos xxmaj match 1 : xxmaj tag xxmaj team xxmaj table xxmaj match xxmaj bubba xxmaj ray and xxmaj spike xxmaj dudley vs xxmaj eddie xxmaj guerrero and xxmaj chris xxmaj benoit xxmaj bubba xxmaj ray and xxmaj spike xxmaj dudley started things off with a xxmaj tag xxmaj team xxmaj table xxmaj match against xxmaj eddie xxmaj guerrero and xxmaj chris xxmaj benoit . xxmaj according to the rules</td>\n",
       "      <td>pos</td>\n",
       "    </tr>\n",
       "    <tr>\n",
       "      <td>xxbos xxrep 6 * xxup warning : xxup may xxup contain xxup spoilers xxrep 14 * \\n\\n xxmaj so who are these \" xxmaj mystery xxmaj men ? \" xxmaj simply put , the xxmaj mystery xxmaj men are a group of sub - xxmaj heroes desperately trying to live out their adolescent fantasy lives while botching both their real identities and their super identities . xxmaj the xxmaj shoveller</td>\n",
       "      <td>pos</td>\n",
       "    </tr>\n",
       "    <tr>\n",
       "      <td>xxbos xxmaj for those of you who 've never heard of it ( or seen it on xxup a&amp;e ) , xxmaj cracker is a brilliant xxmaj british xxup tv show about an overweight , chain - smoking , foulmouthed psychologist named xxmaj fitz who helps the xxmaj manchester police department get into the heads of violent criminals . xxmaj it 's considered to be one of the finest shows</td>\n",
       "      <td>neg</td>\n",
       "    </tr>\n",
       "    <tr>\n",
       "      <td>xxbos xxmaj well , it turned out as i expected : visual overload but nothing else added to the original . xxmaj what did surprise me however was that the storyline was fairly drastically changed compared to the 1968 flick . xxmaj initially this awoke my interest , but what eventually surprised was that the new twists and turns ( a ) were apparently invented in order to present us</td>\n",
       "      <td>neg</td>\n",
       "    </tr>\n",
       "    <tr>\n",
       "      <td>xxbos xxmaj reviewing xxup kazaam and saying it 's a bad movie is n't hard at all -- after all , critics at the time it came out fell all over themselves xxunk this film -- saying it was among the worst films of the decade ! xxmaj so the fact that i say it 's bad or anyone else says it 's bad is certainly no surprise . xxmaj</td>\n",
       "      <td>neg</td>\n",
       "    </tr>\n",
       "  </tbody>\n",
       "</table>"
      ],
      "text/plain": [
       "<IPython.core.display.HTML object>"
      ]
     },
     "metadata": {},
     "output_type": "display_data"
    }
   ],
   "source": [
    "data_clas.show_batch()"
   ]
  },
  {
   "cell_type": "markdown",
   "metadata": {},
   "source": [
    "# Build my language classifier on top of my language model"
   ]
  },
  {
   "cell_type": "code",
   "execution_count": 48,
   "metadata": {},
   "outputs": [],
   "source": [
    "learn = text_classifier_learner(data_clas, AWD_LSTM, drop_mult=0.5)\n",
    "learn.load_encoder('fine_tuned_enc')\n",
    "learn.freeze()"
   ]
  },
  {
   "cell_type": "markdown",
   "metadata": {},
   "source": [
    "# Find a learning rate that minimize the loss function"
   ]
  },
  {
   "cell_type": "code",
   "execution_count": 49,
   "metadata": {
    "scrolled": true
   },
   "outputs": [
    {
     "data": {
      "text/html": [],
      "text/plain": [
       "<IPython.core.display.HTML object>"
      ]
     },
     "metadata": {},
     "output_type": "display_data"
    },
    {
     "name": "stdout",
     "output_type": "stream",
     "text": [
      "LR Finder is complete, type {learner_name}.recorder.plot() to see the graph.\n"
     ]
    }
   ],
   "source": [
    "learn.lr_find()"
   ]
  },
  {
   "cell_type": "code",
   "execution_count": 50,
   "metadata": {
    "scrolled": true
   },
   "outputs": [
    {
     "data": {
      "image/png": "[encoded data removed]",
      "text/plain": [
       "<Figure size 432x288 with 1 Axes>"
      ]
     },
     "metadata": {
      "needs_background": "light"
     },
     "output_type": "display_data"
    }
   ],
   "source": [
    "learn.recorder.plot()"
   ]
  },
  {
   "cell_type": "markdown",
   "metadata": {},
   "source": [
    "# Feed the first databunch to the neural net and backpropagate ( 1 epoch)"
   ]
  },
  {
   "cell_type": "code",
   "execution_count": 51,
   "metadata": {
    "scrolled": true
   },
   "outputs": [
    {
     "data": {
      "text/html": [
       "<table border=\"1\" class=\"dataframe\">\n",
       "  <thead>\n",
       "    <tr style=\"text-align: left;\">\n",
       "      <th>epoch</th>\n",
       "      <th>train_loss</th>\n",
       "      <th>valid_loss</th>\n",
       "      <th>accuracy</th>\n",
       "      <th>time</th>\n",
       "    </tr>\n",
       "  </thead>\n",
       "  <tbody>\n",
       "    <tr>\n",
       "      <td>0</td>\n",
       "      <td>0.496856</td>\n",
       "      <td>0.351140</td>\n",
       "      <td>0.856440</td>\n",
       "      <td>3:43:03</td>\n",
       "    </tr>\n",
       "  </tbody>\n",
       "</table>"
      ],
      "text/plain": [
       "<IPython.core.display.HTML object>"
      ]
     },
     "metadata": {},
     "output_type": "display_data"
    }
   ],
   "source": [
    "learn.fit_one_cycle(1, 2e-2, moms=(0.8,0.7))"
   ]
  },
  {
   "cell_type": "code",
   "execution_count": 52,
   "metadata": {},
   "outputs": [],
   "source": [
    "learn.save('first')"
   ]
  },
  {
   "cell_type": "code",
   "execution_count": 53,
   "metadata": {},
   "outputs": [
    {
     "data": {
      "text/plain": [
       "RNNLearner(data=TextClasDataBunch;\n",
       "\n",
       "Train: LabelList (25000 items)\n",
       "x: TextList\n",
       "xxbos i was bored , around 10 pm , so i watched this movie . xxmaj and i could not stop laughing . xxmaj everything was so ridiculous . xxmaj the way the kids were acting like they were older than 11 just cracked me up . xxmaj one of the kids had a ring , that supposedly killed people after 3 or so years . xxmaj it gave me the impression that he wanted to be a gangster . \n",
       "\n",
       " xxmaj it 's pretty hard to take little kids seriously , especially when it has to do with eating worms . xxmaj they act like everything is such a big deal , like if xxmaj billy ( the main character ) does n't eat the worms then the world will end . \n",
       "\n",
       " xxmaj this is a good movie for little kids ( excluding the fact that a 5 year old says ' penis ' ) , but not for teens or adults who do n't want to waste their time .,xxbos xxmaj bill ( xxmaj buddy xxmaj rogers ) is sent to xxmaj new xxmaj york by his uncle ( xxmaj richard xxmaj tucker ) to experience life before he inherits $ xxunk . xxmaj his uncle has paid 3 women xxmaj xxunk ( xxmaj kathryn xxmaj crawford ) , xxmaj maxine ( xxmaj josephine xxmaj dunn ) and xxmaj pauline ( xxmaj carole xxmaj lombard ) to xxunk him and ensure that he does not fall foul of gold - diggers . xxmaj one such lady xxmaj cleo ( xxmaj geneva xxmaj mitchell ) turns up on the scene to the xxunk of the women . xxmaj we follow the tale as the girls are offered more money to appear in a show instead of their escorting role that they have agreed to carry out for the 3 months that xxmaj bill is in xxmaj new xxmaj york , while xxmaj bill meets with xxmaj cleo and another woman . xxmaj at the end , love is in the air for xxmaj bill and one other xxrep 13 . \n",
       "\n",
       " xxmaj the picture quality and sound quality are poor in this film . xxmaj the story is interspersed with musical numbers but the songs are bad and xxmaj kathryn xxmaj crawford has a terrible voice . xxmaj rogers is n't that good either . xxmaj he 's pleasant enough but only really comes to life when playing the drums or trombone . xxmaj there is a very irritating character who plays a cab driver ( xxmaj roscoe xxmaj karns ) and the film is just dull .,xxbos ( xxunk one truly memorable part of this otherwise rather dull and tepid bit of xxmaj british cuisine is xxmaj steiner 's xxunk rinse , one of the worst dye jobs ever . xxmaj that , and the magnificent caterpillar eyebrows on the old evil dude who was trying to steal xxmaj steiner 's invention . xxup mst3 k does an admirable job of making a wretchedly boring and grey film funny . i particularly like it when xxmaj crow kills xxmaj mike with his ' touch of death ' , and when he revives him in the theatre , xxmaj mike cries \" xxmaj guys , i died , i saw eternal truth and beauty ! oh , it 's this movie ... \" xxmaj that would be a letdown , having to come back from the afterlife to watch the rest of xxmaj the xxmaj projected xxmaj man . xxmaj the film could make a fortune being sold as a sleep aide . xxmaj some of the puns in the film were wicked : police xxunk ! \" xxunk , is n't it ? \" police xxunk 's lowe , all right \" xxmaj tom xxunk low , right down by the floor ! \" police xxunk i get on ? \" xxmaj tom xxunk 's dead , but knock yourself out \" xxup mst3 k is definitely the only way to watch this snoozer .,xxbos i have seen it . xxmaj it 's not \" good \" but interesting in an understated way . xxmaj the boys in it are quite naturalistic but xxrep 16 . the graphic / gratuitous final gang rape scene is repugnant and -oh xxunk the arbitrary insertion of second world war footage is offensive in the way it attempts to compare real horror with this misogynistic contrivance . xxmaj real atrocity is real- this film is just atrocious . xxmaj however , the film has a look which can draw you in . xxmaj but it seems to me that is the \" xxmaj emperor 's xxmaj new xxmaj clothes \" , but in fact in reverse . xxmaj the film looks good , but the direction , story , content and final feeling you take away from this film is vacuous . xxmaj if a feeling can be vacuous - this is it .,xxbos xxmaj and i repeat , please do not see this movie ! xxmaj this is more than a review . xxmaj this is a warning . xxmaj this sets the record for the worst , most effortless comedy ever made . xxmaj at least with most of the recent comedies nowadays , the gags are crude and flat , but the writers and directors put in at least some sort of effort into making them funny . i never get tired of repeating one of my favorite xxunk : xxmaj everyone thinks they can do comedy , and only 10 percent of them are right . xxmaj comedy is hard ! xxmaj this is not some genre any fool can play around with . i think it 's atrocious that the filmmakers are comparing this piece of garbage to \" xxmaj kentucky xxmaj fried xxmaj movie . \" xxmaj basically , these bozos are comparing their so - called comic talents to those of the brilliant xxmaj jim xxmaj abrahams and the xxmaj zucker xxmaj brothers . xxmaj come on , i 've seen xxmaj pauly xxmaj shore movies that are 10 times funnier than \" xxmaj the xxmaj underground xxmaj comedy xxmaj movie . \" xxmaj here 's a sample of the comedy for those curious about seeing this movie : xxmaj one sketch involves a superhero dressed like a penis named xxmaj xxunk . xxmaj the whole joke is that he defeats his enemies by squirting them with semen . xxmaj that 's it . xxmaj that 's the whole joke . xxmaj wow . xxmaj this is enough to make xxmaj carrot xxmaj top roll his eyes . xxmaj another sketch involves a man having sex with a dead person in a porn movie . xxmaj and in another sketch , there 's a bag lady beauty contest , in which we 're exposed to the horrible sights of bikini - clad middle - aged women with beer guts and stretch marks . xxmaj plus , making fun of the homeless is more sad than funny . xxmaj it 's a step away from mocking the mentally handicapped . xxmaj the whole movie is supposed to be a satire . i think the filmmakers forgot that a key element of satire ... is xxup truth ! ! ! xxmaj for anybody who actually enjoyed this crap , explain to me what is truthful about xxup any of these gags ! xxmaj some of the sketches might 've sounded funny on paper , but anybody who 's taken any screen writing classes knows that if a sight gag sounds too funny on paper , it probably wo n't be funny on screen . xxmaj if i tell someone about a big , black , muscular gay virgin , who 's saving himself for the right man , he or she would probably laugh . xxmaj but watching the premise played out on screen for about 10 minutes is a complete drag . i hate how whenever people criticize a low - brow comedy like this for not being funny , they 're regarded as stuck - up squares . i just saw \" xxmaj white xxmaj chicks \" recently . xxmaj that 's another low - brow , politically incorrect comedy , but i laughed my head off . xxmaj the most offensive thing about \" xxmaj the xxmaj underground xxmaj comedy xxmaj movie \" is it 's not funny ! xxmaj what the writers and directors do n't understand is that merely being filthy and tasteless does n't work . xxmaj there has to be more ! xxmaj just think of the famous scene from \" xxmaj there 's xxmaj something xxmaj about xxmaj mary \" ( ironically , enough the bozo filmmakers put the xxmaj farrellys on their special thanks list ) . xxmaj the joke about the semen was n't just funny because it involved bodily fluids . xxmaj there was a buildup . xxmaj ben xxmaj stiller was masturbating in the bathroom to make sure he did n't go out on a date with a \" loaded gun . \" xxmaj then he looked around to see where all the semen went after it was released . a knock is on the door , and he has to answer it . xxmaj his date , xxmaj mary , is at the door and that 's when it 's revealed that the semen is hanging off xxmaj ben 's ear . xxmaj in this movie , there are multiple gags involving characters squirting loads of semen at people , with no buildup whatsoever . xxmaj as xxmaj jay xxmaj leno always says , \" xxmaj this comedy thing 's not so easy , is it ? \" xxmaj keep that in mind , xxmaj vince xxmaj offer , 'cause you were n't cut out for this genre ! ! xxmaj the only reason people might laugh at these gags is because they want to feel hip . xxmaj let 's face it , nowadays it 's hip to laugh at anything politically incorrect . i know comedy is subjective ... but this movie should n't be funny to anybody , except maybe the filmmakers themselves . xxmaj as a side note , the movie had to have been made before xxmaj michael xxmaj clarke xxmaj duncan 's fame in movies like \" xxmaj armageddon \" and \" xxmaj the xxmaj green xxmaj mile . \" xxmaj there ca n't be any other reason why an actor of his caliber would volunteer to be part of this amateurish freak show . xxmaj all the others in the cast are either non - actors , has - been actors or b - movie stars . xxmaj karen xxmaj black made a good impression in \" xxmaj five xxmaj easy xxmaj pieces , \" but i do n't think she 's done anything of value ever since . xxmaj slash was probably drugged into being in this film . xxmaj gina xxmaj lee xxmaj xxunk is nothing without \" xxmaj baywatch . \" xxmaj xxunk is the film 's biggest star ( keeping in mind xxmaj duncan was n't famous at the time ) , and there are still probably a ton of people who have n't heard of her -- for good reason . xxmaj usually , i 'm in support of extremely low - budget flicks , but this one deserves to drift into obscurity . i hope to xxmaj lord this does n't become a cult classic ! xxmaj should n't there be a law against distributing crap like this ?\n",
       "y: CategoryList\n",
       "neg,neg,neg,neg,neg\n",
       "Path: /Users/angelali/.fastai/data/imdb;\n",
       "\n",
       "Valid: LabelList (25000 items)\n",
       "x: TextList\n",
       "xxbos i did n't know what to expect when i started watching this movie , by the end of it i was pulling my hairs out . xxmaj this was one of the most pathetic movies of this year ... in fact , in the last ten years . xxmaj david xxmaj dhawan should just give up his career as a director . i am yet to come across one original script that xxmaj david xxmaj dhawan has worked on . xxmaj this one was a complete bit y bit rip off xxmaj hitch . i have nothing against remakes as such , but this one is just so lousy that it makes you even hate the original one ( which was pretty decent ) . i fail to understand what actors like xxmaj salman and xxmaj govinda saw in this script . i read somewhere , that this was supposed to be xxmaj govinda 's comeback vehicle . xxmaj if that s true , then only xxmaj god can save his career . xxmaj salman just overacted to the hilt . xxmaj govinda who i think is an actor of very high caliber was completely wasted . xxmaj katrina xxmaj kaif and lara xxmaj dutta had nothing to do apart form wearing designer clothes and smiling for no rhyme or reason . xxmaj please stay away form this one !,xxbos xxmaj for several reasons , this movie is simply awful . xxmaj other posters have listed some of this movie 's historical errors . xxmaj well , i have a layman 's knowledge of xxmaj roman history and even i found the inaccuracies flagrant . i usually forgive errors in historical movies because i understand that the purpose is to entertain not educate . xxmaj and shrinking a long saga down to a two hour feature requires some , let 's say , historical license . xxmaj but this movie goes well beyond mere rounding . \n",
       "\n",
       " xxmaj there 's worse . xxmaj to tell a story from a distant period , the movie uses flashbacks which just make the story more confusing . xxmaj unless viewers have some prior knowledge of the period , they will quickly be lost . xxmaj in addition , the movie was obviously filmed simultaneously in xxmaj italian and xxmaj english with various actors being dubbed later . xxmaj at times , the actors seem as if they were in completely different movies which were then edited together . xxmaj in fact , this is not far wrong . xxmaj the actors were obviously pasted onto a cheesy computer generated ancient xxmaj rome . \n",
       "\n",
       " xxmaj the only reason i give this boring mess any stars is because i always find xxmaj peter o'toole entertaining . xxmaj but that is no reason to rent it . xxmaj if you are curious about xxmaj roman history , there are much better movies available .,xxbos xxmaj remember those terrible war movies your grandmother forced you to watch 25 or so years ago on your old xxup vhs recorder ? \" xxmaj the xxmaj fallen \" is just a bad executed remake of those movies ! xxmaj the story is terrible , the direction is terrible , the editing is terrible , the music is terrible , and all together make an unbearable nightmare . \n",
       "\n",
       " xxmaj it is also terribly slow ! xxmaj very slow ! i tried to sleep while watching it but i could n't do it because i had nightmares of it . \n",
       "\n",
       " xxmaj please do n't watch this movie ! xxmaj it is xxup that bad ! xxmaj ten lines is a lot so i do n't know what else to say . \n",
       "\n",
       " xxmaj press the eject button xxup now and you wo nt regret it !,xxbos a post - apocalyptic warrior goes off to save some kind of xxmaj nun and on the way meets some cyber - punks on skates who want to kick his ass . xxmaj this is one of the hardest to watch films ever , xxmaj there are scenes with silence that seems to last hours before somebody comes out with the next badly written , badly acted line . xxmaj there are action sequences that keep repeating - and we 're not talking the quickfire 1 - 2 - 3 action repeat on a particularly good kick that was made popular by eastern directors , we 're talking many , many repeats of long , bad fight sequences . xxmaj this is incredibly confusing at first but then quickly becomes annoying as you 're watching a 30 second sequence for the 2nd , 3rd and 4th time . xxmaj any kind of plot or vision is lost within the confusing continuity , the only thing that s keeps this film in the xxunk ( apart from the bet from a friend that i could n't watch it all the way through without begging for it to be turned off and disposed off safely so it may harm no - one else ) is the fact that although painful , this film is unintentionally hilarious , i 'm not at all a fan of those \" so bad that it 's funny \" type of films but at parts i was in tears . xxmaj other points to note are the quality of the sound and picture but this is forgiveable as it 's obvious money was a major problem in the making of this film . xxmaj final verdict - xxmaj king of the \" so bad they 're funny \" genre , anybody having that kind of genre video night should get themselves a copy . xxmaj also lets not forget that it is actually the worst film i 've ever seen .,xxbos i believe that this movie was a terrible waste of my time , and i would know after watching it 5 times in class . this movie does not show what absolutely perfectly happened during these times . no one can truly say that these things happened to the letter . if anything the only good part would be the actors , even tho that they were really really xxunk were reading the script without expression . quite boring . i would rather watch play school . so i would definitely like to never ever see this movie again in my whole life . it is a complete waste of time unless you want your time to be wasted and if you would like to see an unrealistic view of what happened back in 1981 .\n",
       "y: CategoryList\n",
       "neg,neg,neg,neg,neg\n",
       "Path: /Users/angelali/.fastai/data/imdb;\n",
       "\n",
       "Test: None, model=SequentialRNN(\n",
       "  (0): MultiBatchEncoder(\n",
       "    (module): AWD_LSTM(\n",
       "      (encoder): Embedding(49948, 400, padding_idx=1)\n",
       "      (encoder_dp): EmbeddingDropout(\n",
       "        (emb): Embedding(49948, 400, padding_idx=1)\n",
       "      )\n",
       "      (rnns): ModuleList(\n",
       "        (0): WeightDropout(\n",
       "          (module): LSTM(400, 1150, batch_first=True)\n",
       "        )\n",
       "        (1): WeightDropout(\n",
       "          (module): LSTM(1150, 1150, batch_first=True)\n",
       "        )\n",
       "        (2): WeightDropout(\n",
       "          (module): LSTM(1150, 400, batch_first=True)\n",
       "        )\n",
       "      )\n",
       "      (input_dp): RNNDropout()\n",
       "      (hidden_dps): ModuleList(\n",
       "        (0): RNNDropout()\n",
       "        (1): RNNDropout()\n",
       "        (2): RNNDropout()\n",
       "      )\n",
       "    )\n",
       "  )\n",
       "  (1): PoolingLinearClassifier(\n",
       "    (layers): Sequential(\n",
       "      (0): BatchNorm1d(1200, eps=1e-05, momentum=0.1, affine=True, track_running_stats=True)\n",
       "      (1): Dropout(p=0.2)\n",
       "      (2): Linear(in_features=1200, out_features=50, bias=True)\n",
       "      (3): ReLU(inplace)\n",
       "      (4): BatchNorm1d(50, eps=1e-05, momentum=0.1, affine=True, track_running_stats=True)\n",
       "      (5): Dropout(p=0.1)\n",
       "      (6): Linear(in_features=50, out_features=2, bias=True)\n",
       "    )\n",
       "  )\n",
       "), opt_func=functools.partial(<class 'torch.optim.adam.Adam'>, betas=(0.9, 0.99)), loss_func=FlattenedLoss of CrossEntropyLoss(), metrics=[<function accuracy at 0x1a275d4158>], true_wd=True, bn_wd=True, wd=0.01, train_bn=True, path=PosixPath('/Users/angelali/.fastai/data/imdb'), model_dir='models', callback_fns=[functools.partial(<class 'fastai.basic_train.Recorder'>, add_time=True, silent=False)], callbacks=[RNNTrainer\n",
       "learn: ...\n",
       "alpha: 2.0\n",
       "beta: 1.0], layer_groups=[Sequential(\n",
       "  (0): Embedding(49948, 400, padding_idx=1)\n",
       "  (1): EmbeddingDropout(\n",
       "    (emb): Embedding(49948, 400, padding_idx=1)\n",
       "  )\n",
       "), Sequential(\n",
       "  (0): WeightDropout(\n",
       "    (module): LSTM(400, 1150, batch_first=True)\n",
       "  )\n",
       "  (1): RNNDropout()\n",
       "), Sequential(\n",
       "  (0): WeightDropout(\n",
       "    (module): LSTM(1150, 1150, batch_first=True)\n",
       "  )\n",
       "  (1): RNNDropout()\n",
       "), Sequential(\n",
       "  (0): WeightDropout(\n",
       "    (module): LSTM(1150, 400, batch_first=True)\n",
       "  )\n",
       "  (1): RNNDropout()\n",
       "), Sequential(\n",
       "  (0): PoolingLinearClassifier(\n",
       "    (layers): Sequential(\n",
       "      (0): BatchNorm1d(1200, eps=1e-05, momentum=0.1, affine=True, track_running_stats=True)\n",
       "      (1): Dropout(p=0.2)\n",
       "      (2): Linear(in_features=1200, out_features=50, bias=True)\n",
       "      (3): ReLU(inplace)\n",
       "      (4): BatchNorm1d(50, eps=1e-05, momentum=0.1, affine=True, track_running_stats=True)\n",
       "      (5): Dropout(p=0.1)\n",
       "      (6): Linear(in_features=50, out_features=2, bias=True)\n",
       "    )\n",
       "  )\n",
       ")], add_time=True, silent=None)"
      ]
     },
     "execution_count": 53,
     "metadata": {},
     "output_type": "execute_result"
    }
   ],
   "source": [
    "learn.load('first')"
   ]
  },
  {
   "cell_type": "markdown",
   "metadata": {},
   "source": [
    "# Feed the second databunch to the neural net \n",
    "# freeze all the hidden layers except last two layers\n",
    "# backpropagate to second last layer ( 1 epoch)"
   ]
  },
  {
   "cell_type": "code",
   "execution_count": 54,
   "metadata": {},
   "outputs": [
    {
     "data": {
      "text/html": [
       "<table border=\"1\" class=\"dataframe\">\n",
       "  <thead>\n",
       "    <tr style=\"text-align: left;\">\n",
       "      <th>epoch</th>\n",
       "      <th>train_loss</th>\n",
       "      <th>valid_loss</th>\n",
       "      <th>accuracy</th>\n",
       "      <th>time</th>\n",
       "    </tr>\n",
       "  </thead>\n",
       "  <tbody>\n",
       "    <tr>\n",
       "      <td>0</td>\n",
       "      <td>0.412281</td>\n",
       "      <td>0.291428</td>\n",
       "      <td>0.891720</td>\n",
       "      <td>5:19:53</td>\n",
       "    </tr>\n",
       "  </tbody>\n",
       "</table>"
      ],
      "text/plain": [
       "<IPython.core.display.HTML object>"
      ]
     },
     "metadata": {},
     "output_type": "display_data"
    }
   ],
   "source": [
    "learn.freeze_to(-2)\n",
    "learn.fit_one_cycle(1, slice(1e-2/(2.6**4),1e-2), moms=(0.8,0.7))"
   ]
  },
  {
   "cell_type": "code",
   "execution_count": 55,
   "metadata": {},
   "outputs": [],
   "source": [
    "learn.save('second')"
   ]
  },
  {
   "cell_type": "code",
   "execution_count": 56,
   "metadata": {},
   "outputs": [
    {
     "data": {
      "text/plain": [
       "RNNLearner(data=TextClasDataBunch;\n",
       "\n",
       "Train: LabelList (25000 items)\n",
       "x: TextList\n",
       "xxbos i was bored , around 10 pm , so i watched this movie . xxmaj and i could not stop laughing . xxmaj everything was so ridiculous . xxmaj the way the kids were acting like they were older than 11 just cracked me up . xxmaj one of the kids had a ring , that supposedly killed people after 3 or so years . xxmaj it gave me the impression that he wanted to be a gangster . \n",
       "\n",
       " xxmaj it 's pretty hard to take little kids seriously , especially when it has to do with eating worms . xxmaj they act like everything is such a big deal , like if xxmaj billy ( the main character ) does n't eat the worms then the world will end . \n",
       "\n",
       " xxmaj this is a good movie for little kids ( excluding the fact that a 5 year old says ' penis ' ) , but not for teens or adults who do n't want to waste their time .,xxbos xxmaj bill ( xxmaj buddy xxmaj rogers ) is sent to xxmaj new xxmaj york by his uncle ( xxmaj richard xxmaj tucker ) to experience life before he inherits $ xxunk . xxmaj his uncle has paid 3 women xxmaj xxunk ( xxmaj kathryn xxmaj crawford ) , xxmaj maxine ( xxmaj josephine xxmaj dunn ) and xxmaj pauline ( xxmaj carole xxmaj lombard ) to xxunk him and ensure that he does not fall foul of gold - diggers . xxmaj one such lady xxmaj cleo ( xxmaj geneva xxmaj mitchell ) turns up on the scene to the xxunk of the women . xxmaj we follow the tale as the girls are offered more money to appear in a show instead of their escorting role that they have agreed to carry out for the 3 months that xxmaj bill is in xxmaj new xxmaj york , while xxmaj bill meets with xxmaj cleo and another woman . xxmaj at the end , love is in the air for xxmaj bill and one other xxrep 13 . \n",
       "\n",
       " xxmaj the picture quality and sound quality are poor in this film . xxmaj the story is interspersed with musical numbers but the songs are bad and xxmaj kathryn xxmaj crawford has a terrible voice . xxmaj rogers is n't that good either . xxmaj he 's pleasant enough but only really comes to life when playing the drums or trombone . xxmaj there is a very irritating character who plays a cab driver ( xxmaj roscoe xxmaj karns ) and the film is just dull .,xxbos ( xxunk one truly memorable part of this otherwise rather dull and tepid bit of xxmaj british cuisine is xxmaj steiner 's xxunk rinse , one of the worst dye jobs ever . xxmaj that , and the magnificent caterpillar eyebrows on the old evil dude who was trying to steal xxmaj steiner 's invention . xxup mst3 k does an admirable job of making a wretchedly boring and grey film funny . i particularly like it when xxmaj crow kills xxmaj mike with his ' touch of death ' , and when he revives him in the theatre , xxmaj mike cries \" xxmaj guys , i died , i saw eternal truth and beauty ! oh , it 's this movie ... \" xxmaj that would be a letdown , having to come back from the afterlife to watch the rest of xxmaj the xxmaj projected xxmaj man . xxmaj the film could make a fortune being sold as a sleep aide . xxmaj some of the puns in the film were wicked : police xxunk ! \" xxunk , is n't it ? \" police xxunk 's lowe , all right \" xxmaj tom xxunk low , right down by the floor ! \" police xxunk i get on ? \" xxmaj tom xxunk 's dead , but knock yourself out \" xxup mst3 k is definitely the only way to watch this snoozer .,xxbos i have seen it . xxmaj it 's not \" good \" but interesting in an understated way . xxmaj the boys in it are quite naturalistic but xxrep 16 . the graphic / gratuitous final gang rape scene is repugnant and -oh xxunk the arbitrary insertion of second world war footage is offensive in the way it attempts to compare real horror with this misogynistic contrivance . xxmaj real atrocity is real- this film is just atrocious . xxmaj however , the film has a look which can draw you in . xxmaj but it seems to me that is the \" xxmaj emperor 's xxmaj new xxmaj clothes \" , but in fact in reverse . xxmaj the film looks good , but the direction , story , content and final feeling you take away from this film is vacuous . xxmaj if a feeling can be vacuous - this is it .,xxbos xxmaj and i repeat , please do not see this movie ! xxmaj this is more than a review . xxmaj this is a warning . xxmaj this sets the record for the worst , most effortless comedy ever made . xxmaj at least with most of the recent comedies nowadays , the gags are crude and flat , but the writers and directors put in at least some sort of effort into making them funny . i never get tired of repeating one of my favorite xxunk : xxmaj everyone thinks they can do comedy , and only 10 percent of them are right . xxmaj comedy is hard ! xxmaj this is not some genre any fool can play around with . i think it 's atrocious that the filmmakers are comparing this piece of garbage to \" xxmaj kentucky xxmaj fried xxmaj movie . \" xxmaj basically , these bozos are comparing their so - called comic talents to those of the brilliant xxmaj jim xxmaj abrahams and the xxmaj zucker xxmaj brothers . xxmaj come on , i 've seen xxmaj pauly xxmaj shore movies that are 10 times funnier than \" xxmaj the xxmaj underground xxmaj comedy xxmaj movie . \" xxmaj here 's a sample of the comedy for those curious about seeing this movie : xxmaj one sketch involves a superhero dressed like a penis named xxmaj xxunk . xxmaj the whole joke is that he defeats his enemies by squirting them with semen . xxmaj that 's it . xxmaj that 's the whole joke . xxmaj wow . xxmaj this is enough to make xxmaj carrot xxmaj top roll his eyes . xxmaj another sketch involves a man having sex with a dead person in a porn movie . xxmaj and in another sketch , there 's a bag lady beauty contest , in which we 're exposed to the horrible sights of bikini - clad middle - aged women with beer guts and stretch marks . xxmaj plus , making fun of the homeless is more sad than funny . xxmaj it 's a step away from mocking the mentally handicapped . xxmaj the whole movie is supposed to be a satire . i think the filmmakers forgot that a key element of satire ... is xxup truth ! ! ! xxmaj for anybody who actually enjoyed this crap , explain to me what is truthful about xxup any of these gags ! xxmaj some of the sketches might 've sounded funny on paper , but anybody who 's taken any screen writing classes knows that if a sight gag sounds too funny on paper , it probably wo n't be funny on screen . xxmaj if i tell someone about a big , black , muscular gay virgin , who 's saving himself for the right man , he or she would probably laugh . xxmaj but watching the premise played out on screen for about 10 minutes is a complete drag . i hate how whenever people criticize a low - brow comedy like this for not being funny , they 're regarded as stuck - up squares . i just saw \" xxmaj white xxmaj chicks \" recently . xxmaj that 's another low - brow , politically incorrect comedy , but i laughed my head off . xxmaj the most offensive thing about \" xxmaj the xxmaj underground xxmaj comedy xxmaj movie \" is it 's not funny ! xxmaj what the writers and directors do n't understand is that merely being filthy and tasteless does n't work . xxmaj there has to be more ! xxmaj just think of the famous scene from \" xxmaj there 's xxmaj something xxmaj about xxmaj mary \" ( ironically , enough the bozo filmmakers put the xxmaj farrellys on their special thanks list ) . xxmaj the joke about the semen was n't just funny because it involved bodily fluids . xxmaj there was a buildup . xxmaj ben xxmaj stiller was masturbating in the bathroom to make sure he did n't go out on a date with a \" loaded gun . \" xxmaj then he looked around to see where all the semen went after it was released . a knock is on the door , and he has to answer it . xxmaj his date , xxmaj mary , is at the door and that 's when it 's revealed that the semen is hanging off xxmaj ben 's ear . xxmaj in this movie , there are multiple gags involving characters squirting loads of semen at people , with no buildup whatsoever . xxmaj as xxmaj jay xxmaj leno always says , \" xxmaj this comedy thing 's not so easy , is it ? \" xxmaj keep that in mind , xxmaj vince xxmaj offer , 'cause you were n't cut out for this genre ! ! xxmaj the only reason people might laugh at these gags is because they want to feel hip . xxmaj let 's face it , nowadays it 's hip to laugh at anything politically incorrect . i know comedy is subjective ... but this movie should n't be funny to anybody , except maybe the filmmakers themselves . xxmaj as a side note , the movie had to have been made before xxmaj michael xxmaj clarke xxmaj duncan 's fame in movies like \" xxmaj armageddon \" and \" xxmaj the xxmaj green xxmaj mile . \" xxmaj there ca n't be any other reason why an actor of his caliber would volunteer to be part of this amateurish freak show . xxmaj all the others in the cast are either non - actors , has - been actors or b - movie stars . xxmaj karen xxmaj black made a good impression in \" xxmaj five xxmaj easy xxmaj pieces , \" but i do n't think she 's done anything of value ever since . xxmaj slash was probably drugged into being in this film . xxmaj gina xxmaj lee xxmaj xxunk is nothing without \" xxmaj baywatch . \" xxmaj xxunk is the film 's biggest star ( keeping in mind xxmaj duncan was n't famous at the time ) , and there are still probably a ton of people who have n't heard of her -- for good reason . xxmaj usually , i 'm in support of extremely low - budget flicks , but this one deserves to drift into obscurity . i hope to xxmaj lord this does n't become a cult classic ! xxmaj should n't there be a law against distributing crap like this ?\n",
       "y: CategoryList\n",
       "neg,neg,neg,neg,neg\n",
       "Path: /Users/angelali/.fastai/data/imdb;\n",
       "\n",
       "Valid: LabelList (25000 items)\n",
       "x: TextList\n",
       "xxbos i did n't know what to expect when i started watching this movie , by the end of it i was pulling my hairs out . xxmaj this was one of the most pathetic movies of this year ... in fact , in the last ten years . xxmaj david xxmaj dhawan should just give up his career as a director . i am yet to come across one original script that xxmaj david xxmaj dhawan has worked on . xxmaj this one was a complete bit y bit rip off xxmaj hitch . i have nothing against remakes as such , but this one is just so lousy that it makes you even hate the original one ( which was pretty decent ) . i fail to understand what actors like xxmaj salman and xxmaj govinda saw in this script . i read somewhere , that this was supposed to be xxmaj govinda 's comeback vehicle . xxmaj if that s true , then only xxmaj god can save his career . xxmaj salman just overacted to the hilt . xxmaj govinda who i think is an actor of very high caliber was completely wasted . xxmaj katrina xxmaj kaif and lara xxmaj dutta had nothing to do apart form wearing designer clothes and smiling for no rhyme or reason . xxmaj please stay away form this one !,xxbos xxmaj for several reasons , this movie is simply awful . xxmaj other posters have listed some of this movie 's historical errors . xxmaj well , i have a layman 's knowledge of xxmaj roman history and even i found the inaccuracies flagrant . i usually forgive errors in historical movies because i understand that the purpose is to entertain not educate . xxmaj and shrinking a long saga down to a two hour feature requires some , let 's say , historical license . xxmaj but this movie goes well beyond mere rounding . \n",
       "\n",
       " xxmaj there 's worse . xxmaj to tell a story from a distant period , the movie uses flashbacks which just make the story more confusing . xxmaj unless viewers have some prior knowledge of the period , they will quickly be lost . xxmaj in addition , the movie was obviously filmed simultaneously in xxmaj italian and xxmaj english with various actors being dubbed later . xxmaj at times , the actors seem as if they were in completely different movies which were then edited together . xxmaj in fact , this is not far wrong . xxmaj the actors were obviously pasted onto a cheesy computer generated ancient xxmaj rome . \n",
       "\n",
       " xxmaj the only reason i give this boring mess any stars is because i always find xxmaj peter o'toole entertaining . xxmaj but that is no reason to rent it . xxmaj if you are curious about xxmaj roman history , there are much better movies available .,xxbos xxmaj remember those terrible war movies your grandmother forced you to watch 25 or so years ago on your old xxup vhs recorder ? \" xxmaj the xxmaj fallen \" is just a bad executed remake of those movies ! xxmaj the story is terrible , the direction is terrible , the editing is terrible , the music is terrible , and all together make an unbearable nightmare . \n",
       "\n",
       " xxmaj it is also terribly slow ! xxmaj very slow ! i tried to sleep while watching it but i could n't do it because i had nightmares of it . \n",
       "\n",
       " xxmaj please do n't watch this movie ! xxmaj it is xxup that bad ! xxmaj ten lines is a lot so i do n't know what else to say . \n",
       "\n",
       " xxmaj press the eject button xxup now and you wo nt regret it !,xxbos a post - apocalyptic warrior goes off to save some kind of xxmaj nun and on the way meets some cyber - punks on skates who want to kick his ass . xxmaj this is one of the hardest to watch films ever , xxmaj there are scenes with silence that seems to last hours before somebody comes out with the next badly written , badly acted line . xxmaj there are action sequences that keep repeating - and we 're not talking the quickfire 1 - 2 - 3 action repeat on a particularly good kick that was made popular by eastern directors , we 're talking many , many repeats of long , bad fight sequences . xxmaj this is incredibly confusing at first but then quickly becomes annoying as you 're watching a 30 second sequence for the 2nd , 3rd and 4th time . xxmaj any kind of plot or vision is lost within the confusing continuity , the only thing that s keeps this film in the xxunk ( apart from the bet from a friend that i could n't watch it all the way through without begging for it to be turned off and disposed off safely so it may harm no - one else ) is the fact that although painful , this film is unintentionally hilarious , i 'm not at all a fan of those \" so bad that it 's funny \" type of films but at parts i was in tears . xxmaj other points to note are the quality of the sound and picture but this is forgiveable as it 's obvious money was a major problem in the making of this film . xxmaj final verdict - xxmaj king of the \" so bad they 're funny \" genre , anybody having that kind of genre video night should get themselves a copy . xxmaj also lets not forget that it is actually the worst film i 've ever seen .,xxbos i believe that this movie was a terrible waste of my time , and i would know after watching it 5 times in class . this movie does not show what absolutely perfectly happened during these times . no one can truly say that these things happened to the letter . if anything the only good part would be the actors , even tho that they were really really xxunk were reading the script without expression . quite boring . i would rather watch play school . so i would definitely like to never ever see this movie again in my whole life . it is a complete waste of time unless you want your time to be wasted and if you would like to see an unrealistic view of what happened back in 1981 .\n",
       "y: CategoryList\n",
       "neg,neg,neg,neg,neg\n",
       "Path: /Users/angelali/.fastai/data/imdb;\n",
       "\n",
       "Test: None, model=SequentialRNN(\n",
       "  (0): MultiBatchEncoder(\n",
       "    (module): AWD_LSTM(\n",
       "      (encoder): Embedding(49948, 400, padding_idx=1)\n",
       "      (encoder_dp): EmbeddingDropout(\n",
       "        (emb): Embedding(49948, 400, padding_idx=1)\n",
       "      )\n",
       "      (rnns): ModuleList(\n",
       "        (0): WeightDropout(\n",
       "          (module): LSTM(400, 1150, batch_first=True)\n",
       "        )\n",
       "        (1): WeightDropout(\n",
       "          (module): LSTM(1150, 1150, batch_first=True)\n",
       "        )\n",
       "        (2): WeightDropout(\n",
       "          (module): LSTM(1150, 400, batch_first=True)\n",
       "        )\n",
       "      )\n",
       "      (input_dp): RNNDropout()\n",
       "      (hidden_dps): ModuleList(\n",
       "        (0): RNNDropout()\n",
       "        (1): RNNDropout()\n",
       "        (2): RNNDropout()\n",
       "      )\n",
       "    )\n",
       "  )\n",
       "  (1): PoolingLinearClassifier(\n",
       "    (layers): Sequential(\n",
       "      (0): BatchNorm1d(1200, eps=1e-05, momentum=0.1, affine=True, track_running_stats=True)\n",
       "      (1): Dropout(p=0.2)\n",
       "      (2): Linear(in_features=1200, out_features=50, bias=True)\n",
       "      (3): ReLU(inplace)\n",
       "      (4): BatchNorm1d(50, eps=1e-05, momentum=0.1, affine=True, track_running_stats=True)\n",
       "      (5): Dropout(p=0.1)\n",
       "      (6): Linear(in_features=50, out_features=2, bias=True)\n",
       "    )\n",
       "  )\n",
       "), opt_func=functools.partial(<class 'torch.optim.adam.Adam'>, betas=(0.9, 0.99)), loss_func=FlattenedLoss of CrossEntropyLoss(), metrics=[<function accuracy at 0x1a275d4158>], true_wd=True, bn_wd=True, wd=0.01, train_bn=True, path=PosixPath('/Users/angelali/.fastai/data/imdb'), model_dir='models', callback_fns=[functools.partial(<class 'fastai.basic_train.Recorder'>, add_time=True, silent=False)], callbacks=[RNNTrainer\n",
       "learn: ...\n",
       "alpha: 2.0\n",
       "beta: 1.0], layer_groups=[Sequential(\n",
       "  (0): Embedding(49948, 400, padding_idx=1)\n",
       "  (1): EmbeddingDropout(\n",
       "    (emb): Embedding(49948, 400, padding_idx=1)\n",
       "  )\n",
       "), Sequential(\n",
       "  (0): WeightDropout(\n",
       "    (module): LSTM(400, 1150, batch_first=True)\n",
       "  )\n",
       "  (1): RNNDropout()\n",
       "), Sequential(\n",
       "  (0): WeightDropout(\n",
       "    (module): LSTM(1150, 1150, batch_first=True)\n",
       "  )\n",
       "  (1): RNNDropout()\n",
       "), Sequential(\n",
       "  (0): WeightDropout(\n",
       "    (module): LSTM(1150, 400, batch_first=True)\n",
       "  )\n",
       "  (1): RNNDropout()\n",
       "), Sequential(\n",
       "  (0): PoolingLinearClassifier(\n",
       "    (layers): Sequential(\n",
       "      (0): BatchNorm1d(1200, eps=1e-05, momentum=0.1, affine=True, track_running_stats=True)\n",
       "      (1): Dropout(p=0.2)\n",
       "      (2): Linear(in_features=1200, out_features=50, bias=True)\n",
       "      (3): ReLU(inplace)\n",
       "      (4): BatchNorm1d(50, eps=1e-05, momentum=0.1, affine=True, track_running_stats=True)\n",
       "      (5): Dropout(p=0.1)\n",
       "      (6): Linear(in_features=50, out_features=2, bias=True)\n",
       "    )\n",
       "  )\n",
       ")], add_time=True, silent=None)"
      ]
     },
     "execution_count": 56,
     "metadata": {},
     "output_type": "execute_result"
    }
   ],
   "source": [
    "learn.load('second')"
   ]
  },
  {
   "cell_type": "markdown",
   "metadata": {},
   "source": [
    "# Feed the third databunch to the neural net \n",
    "# freeze all the hidden layers expect last 3 layers\n",
    "# backpropagate to third last layer ( 1 epoch)"
   ]
  },
  {
   "cell_type": "code",
   "execution_count": 57,
   "metadata": {},
   "outputs": [
    {
     "data": {
      "text/html": [
       "<table border=\"1\" class=\"dataframe\">\n",
       "  <thead>\n",
       "    <tr style=\"text-align: left;\">\n",
       "      <th>epoch</th>\n",
       "      <th>train_loss</th>\n",
       "      <th>valid_loss</th>\n",
       "      <th>accuracy</th>\n",
       "      <th>time</th>\n",
       "    </tr>\n",
       "  </thead>\n",
       "  <tbody>\n",
       "    <tr>\n",
       "      <td>0</td>\n",
       "      <td>0.332247</td>\n",
       "      <td>0.210037</td>\n",
       "      <td>0.919680</td>\n",
       "      <td>13:12:10</td>\n",
       "    </tr>\n",
       "  </tbody>\n",
       "</table>"
      ],
      "text/plain": [
       "<IPython.core.display.HTML object>"
      ]
     },
     "metadata": {},
     "output_type": "display_data"
    }
   ],
   "source": [
    "learn.freeze_to(-3)\n",
    "learn.fit_one_cycle(1, slice(5e-3/(2.6**4),5e-3), moms=(0.8,0.7))"
   ]
  },
  {
   "cell_type": "code",
   "execution_count": 58,
   "metadata": {},
   "outputs": [],
   "source": [
    "learn.save('third')"
   ]
  },
  {
   "cell_type": "code",
   "execution_count": 59,
   "metadata": {},
   "outputs": [
    {
     "data": {
      "text/plain": [
       "RNNLearner(data=TextClasDataBunch;\n",
       "\n",
       "Train: LabelList (25000 items)\n",
       "x: TextList\n",
       "xxbos i was bored , around 10 pm , so i watched this movie . xxmaj and i could not stop laughing . xxmaj everything was so ridiculous . xxmaj the way the kids were acting like they were older than 11 just cracked me up . xxmaj one of the kids had a ring , that supposedly killed people after 3 or so years . xxmaj it gave me the impression that he wanted to be a gangster . \n",
       "\n",
       " xxmaj it 's pretty hard to take little kids seriously , especially when it has to do with eating worms . xxmaj they act like everything is such a big deal , like if xxmaj billy ( the main character ) does n't eat the worms then the world will end . \n",
       "\n",
       " xxmaj this is a good movie for little kids ( excluding the fact that a 5 year old says ' penis ' ) , but not for teens or adults who do n't want to waste their time .,xxbos xxmaj bill ( xxmaj buddy xxmaj rogers ) is sent to xxmaj new xxmaj york by his uncle ( xxmaj richard xxmaj tucker ) to experience life before he inherits $ xxunk . xxmaj his uncle has paid 3 women xxmaj xxunk ( xxmaj kathryn xxmaj crawford ) , xxmaj maxine ( xxmaj josephine xxmaj dunn ) and xxmaj pauline ( xxmaj carole xxmaj lombard ) to xxunk him and ensure that he does not fall foul of gold - diggers . xxmaj one such lady xxmaj cleo ( xxmaj geneva xxmaj mitchell ) turns up on the scene to the xxunk of the women . xxmaj we follow the tale as the girls are offered more money to appear in a show instead of their escorting role that they have agreed to carry out for the 3 months that xxmaj bill is in xxmaj new xxmaj york , while xxmaj bill meets with xxmaj cleo and another woman . xxmaj at the end , love is in the air for xxmaj bill and one other xxrep 13 . \n",
       "\n",
       " xxmaj the picture quality and sound quality are poor in this film . xxmaj the story is interspersed with musical numbers but the songs are bad and xxmaj kathryn xxmaj crawford has a terrible voice . xxmaj rogers is n't that good either . xxmaj he 's pleasant enough but only really comes to life when playing the drums or trombone . xxmaj there is a very irritating character who plays a cab driver ( xxmaj roscoe xxmaj karns ) and the film is just dull .,xxbos ( xxunk one truly memorable part of this otherwise rather dull and tepid bit of xxmaj british cuisine is xxmaj steiner 's xxunk rinse , one of the worst dye jobs ever . xxmaj that , and the magnificent caterpillar eyebrows on the old evil dude who was trying to steal xxmaj steiner 's invention . xxup mst3 k does an admirable job of making a wretchedly boring and grey film funny . i particularly like it when xxmaj crow kills xxmaj mike with his ' touch of death ' , and when he revives him in the theatre , xxmaj mike cries \" xxmaj guys , i died , i saw eternal truth and beauty ! oh , it 's this movie ... \" xxmaj that would be a letdown , having to come back from the afterlife to watch the rest of xxmaj the xxmaj projected xxmaj man . xxmaj the film could make a fortune being sold as a sleep aide . xxmaj some of the puns in the film were wicked : police xxunk ! \" xxunk , is n't it ? \" police xxunk 's lowe , all right \" xxmaj tom xxunk low , right down by the floor ! \" police xxunk i get on ? \" xxmaj tom xxunk 's dead , but knock yourself out \" xxup mst3 k is definitely the only way to watch this snoozer .,xxbos i have seen it . xxmaj it 's not \" good \" but interesting in an understated way . xxmaj the boys in it are quite naturalistic but xxrep 16 . the graphic / gratuitous final gang rape scene is repugnant and -oh xxunk the arbitrary insertion of second world war footage is offensive in the way it attempts to compare real horror with this misogynistic contrivance . xxmaj real atrocity is real- this film is just atrocious . xxmaj however , the film has a look which can draw you in . xxmaj but it seems to me that is the \" xxmaj emperor 's xxmaj new xxmaj clothes \" , but in fact in reverse . xxmaj the film looks good , but the direction , story , content and final feeling you take away from this film is vacuous . xxmaj if a feeling can be vacuous - this is it .,xxbos xxmaj and i repeat , please do not see this movie ! xxmaj this is more than a review . xxmaj this is a warning . xxmaj this sets the record for the worst , most effortless comedy ever made . xxmaj at least with most of the recent comedies nowadays , the gags are crude and flat , but the writers and directors put in at least some sort of effort into making them funny . i never get tired of repeating one of my favorite xxunk : xxmaj everyone thinks they can do comedy , and only 10 percent of them are right . xxmaj comedy is hard ! xxmaj this is not some genre any fool can play around with . i think it 's atrocious that the filmmakers are comparing this piece of garbage to \" xxmaj kentucky xxmaj fried xxmaj movie . \" xxmaj basically , these bozos are comparing their so - called comic talents to those of the brilliant xxmaj jim xxmaj abrahams and the xxmaj zucker xxmaj brothers . xxmaj come on , i 've seen xxmaj pauly xxmaj shore movies that are 10 times funnier than \" xxmaj the xxmaj underground xxmaj comedy xxmaj movie . \" xxmaj here 's a sample of the comedy for those curious about seeing this movie : xxmaj one sketch involves a superhero dressed like a penis named xxmaj xxunk . xxmaj the whole joke is that he defeats his enemies by squirting them with semen . xxmaj that 's it . xxmaj that 's the whole joke . xxmaj wow . xxmaj this is enough to make xxmaj carrot xxmaj top roll his eyes . xxmaj another sketch involves a man having sex with a dead person in a porn movie . xxmaj and in another sketch , there 's a bag lady beauty contest , in which we 're exposed to the horrible sights of bikini - clad middle - aged women with beer guts and stretch marks . xxmaj plus , making fun of the homeless is more sad than funny . xxmaj it 's a step away from mocking the mentally handicapped . xxmaj the whole movie is supposed to be a satire . i think the filmmakers forgot that a key element of satire ... is xxup truth ! ! ! xxmaj for anybody who actually enjoyed this crap , explain to me what is truthful about xxup any of these gags ! xxmaj some of the sketches might 've sounded funny on paper , but anybody who 's taken any screen writing classes knows that if a sight gag sounds too funny on paper , it probably wo n't be funny on screen . xxmaj if i tell someone about a big , black , muscular gay virgin , who 's saving himself for the right man , he or she would probably laugh . xxmaj but watching the premise played out on screen for about 10 minutes is a complete drag . i hate how whenever people criticize a low - brow comedy like this for not being funny , they 're regarded as stuck - up squares . i just saw \" xxmaj white xxmaj chicks \" recently . xxmaj that 's another low - brow , politically incorrect comedy , but i laughed my head off . xxmaj the most offensive thing about \" xxmaj the xxmaj underground xxmaj comedy xxmaj movie \" is it 's not funny ! xxmaj what the writers and directors do n't understand is that merely being filthy and tasteless does n't work . xxmaj there has to be more ! xxmaj just think of the famous scene from \" xxmaj there 's xxmaj something xxmaj about xxmaj mary \" ( ironically , enough the bozo filmmakers put the xxmaj farrellys on their special thanks list ) . xxmaj the joke about the semen was n't just funny because it involved bodily fluids . xxmaj there was a buildup . xxmaj ben xxmaj stiller was masturbating in the bathroom to make sure he did n't go out on a date with a \" loaded gun . \" xxmaj then he looked around to see where all the semen went after it was released . a knock is on the door , and he has to answer it . xxmaj his date , xxmaj mary , is at the door and that 's when it 's revealed that the semen is hanging off xxmaj ben 's ear . xxmaj in this movie , there are multiple gags involving characters squirting loads of semen at people , with no buildup whatsoever . xxmaj as xxmaj jay xxmaj leno always says , \" xxmaj this comedy thing 's not so easy , is it ? \" xxmaj keep that in mind , xxmaj vince xxmaj offer , 'cause you were n't cut out for this genre ! ! xxmaj the only reason people might laugh at these gags is because they want to feel hip . xxmaj let 's face it , nowadays it 's hip to laugh at anything politically incorrect . i know comedy is subjective ... but this movie should n't be funny to anybody , except maybe the filmmakers themselves . xxmaj as a side note , the movie had to have been made before xxmaj michael xxmaj clarke xxmaj duncan 's fame in movies like \" xxmaj armageddon \" and \" xxmaj the xxmaj green xxmaj mile . \" xxmaj there ca n't be any other reason why an actor of his caliber would volunteer to be part of this amateurish freak show . xxmaj all the others in the cast are either non - actors , has - been actors or b - movie stars . xxmaj karen xxmaj black made a good impression in \" xxmaj five xxmaj easy xxmaj pieces , \" but i do n't think she 's done anything of value ever since . xxmaj slash was probably drugged into being in this film . xxmaj gina xxmaj lee xxmaj xxunk is nothing without \" xxmaj baywatch . \" xxmaj xxunk is the film 's biggest star ( keeping in mind xxmaj duncan was n't famous at the time ) , and there are still probably a ton of people who have n't heard of her -- for good reason . xxmaj usually , i 'm in support of extremely low - budget flicks , but this one deserves to drift into obscurity . i hope to xxmaj lord this does n't become a cult classic ! xxmaj should n't there be a law against distributing crap like this ?\n",
       "y: CategoryList\n",
       "neg,neg,neg,neg,neg\n",
       "Path: /Users/angelali/.fastai/data/imdb;\n",
       "\n",
       "Valid: LabelList (25000 items)\n",
       "x: TextList\n",
       "xxbos i did n't know what to expect when i started watching this movie , by the end of it i was pulling my hairs out . xxmaj this was one of the most pathetic movies of this year ... in fact , in the last ten years . xxmaj david xxmaj dhawan should just give up his career as a director . i am yet to come across one original script that xxmaj david xxmaj dhawan has worked on . xxmaj this one was a complete bit y bit rip off xxmaj hitch . i have nothing against remakes as such , but this one is just so lousy that it makes you even hate the original one ( which was pretty decent ) . i fail to understand what actors like xxmaj salman and xxmaj govinda saw in this script . i read somewhere , that this was supposed to be xxmaj govinda 's comeback vehicle . xxmaj if that s true , then only xxmaj god can save his career . xxmaj salman just overacted to the hilt . xxmaj govinda who i think is an actor of very high caliber was completely wasted . xxmaj katrina xxmaj kaif and lara xxmaj dutta had nothing to do apart form wearing designer clothes and smiling for no rhyme or reason . xxmaj please stay away form this one !,xxbos xxmaj for several reasons , this movie is simply awful . xxmaj other posters have listed some of this movie 's historical errors . xxmaj well , i have a layman 's knowledge of xxmaj roman history and even i found the inaccuracies flagrant . i usually forgive errors in historical movies because i understand that the purpose is to entertain not educate . xxmaj and shrinking a long saga down to a two hour feature requires some , let 's say , historical license . xxmaj but this movie goes well beyond mere rounding . \n",
       "\n",
       " xxmaj there 's worse . xxmaj to tell a story from a distant period , the movie uses flashbacks which just make the story more confusing . xxmaj unless viewers have some prior knowledge of the period , they will quickly be lost . xxmaj in addition , the movie was obviously filmed simultaneously in xxmaj italian and xxmaj english with various actors being dubbed later . xxmaj at times , the actors seem as if they were in completely different movies which were then edited together . xxmaj in fact , this is not far wrong . xxmaj the actors were obviously pasted onto a cheesy computer generated ancient xxmaj rome . \n",
       "\n",
       " xxmaj the only reason i give this boring mess any stars is because i always find xxmaj peter o'toole entertaining . xxmaj but that is no reason to rent it . xxmaj if you are curious about xxmaj roman history , there are much better movies available .,xxbos xxmaj remember those terrible war movies your grandmother forced you to watch 25 or so years ago on your old xxup vhs recorder ? \" xxmaj the xxmaj fallen \" is just a bad executed remake of those movies ! xxmaj the story is terrible , the direction is terrible , the editing is terrible , the music is terrible , and all together make an unbearable nightmare . \n",
       "\n",
       " xxmaj it is also terribly slow ! xxmaj very slow ! i tried to sleep while watching it but i could n't do it because i had nightmares of it . \n",
       "\n",
       " xxmaj please do n't watch this movie ! xxmaj it is xxup that bad ! xxmaj ten lines is a lot so i do n't know what else to say . \n",
       "\n",
       " xxmaj press the eject button xxup now and you wo nt regret it !,xxbos a post - apocalyptic warrior goes off to save some kind of xxmaj nun and on the way meets some cyber - punks on skates who want to kick his ass . xxmaj this is one of the hardest to watch films ever , xxmaj there are scenes with silence that seems to last hours before somebody comes out with the next badly written , badly acted line . xxmaj there are action sequences that keep repeating - and we 're not talking the quickfire 1 - 2 - 3 action repeat on a particularly good kick that was made popular by eastern directors , we 're talking many , many repeats of long , bad fight sequences . xxmaj this is incredibly confusing at first but then quickly becomes annoying as you 're watching a 30 second sequence for the 2nd , 3rd and 4th time . xxmaj any kind of plot or vision is lost within the confusing continuity , the only thing that s keeps this film in the xxunk ( apart from the bet from a friend that i could n't watch it all the way through without begging for it to be turned off and disposed off safely so it may harm no - one else ) is the fact that although painful , this film is unintentionally hilarious , i 'm not at all a fan of those \" so bad that it 's funny \" type of films but at parts i was in tears . xxmaj other points to note are the quality of the sound and picture but this is forgiveable as it 's obvious money was a major problem in the making of this film . xxmaj final verdict - xxmaj king of the \" so bad they 're funny \" genre , anybody having that kind of genre video night should get themselves a copy . xxmaj also lets not forget that it is actually the worst film i 've ever seen .,xxbos i believe that this movie was a terrible waste of my time , and i would know after watching it 5 times in class . this movie does not show what absolutely perfectly happened during these times . no one can truly say that these things happened to the letter . if anything the only good part would be the actors , even tho that they were really really xxunk were reading the script without expression . quite boring . i would rather watch play school . so i would definitely like to never ever see this movie again in my whole life . it is a complete waste of time unless you want your time to be wasted and if you would like to see an unrealistic view of what happened back in 1981 .\n",
       "y: CategoryList\n",
       "neg,neg,neg,neg,neg\n",
       "Path: /Users/angelali/.fastai/data/imdb;\n",
       "\n",
       "Test: None, model=SequentialRNN(\n",
       "  (0): MultiBatchEncoder(\n",
       "    (module): AWD_LSTM(\n",
       "      (encoder): Embedding(49948, 400, padding_idx=1)\n",
       "      (encoder_dp): EmbeddingDropout(\n",
       "        (emb): Embedding(49948, 400, padding_idx=1)\n",
       "      )\n",
       "      (rnns): ModuleList(\n",
       "        (0): WeightDropout(\n",
       "          (module): LSTM(400, 1150, batch_first=True)\n",
       "        )\n",
       "        (1): WeightDropout(\n",
       "          (module): LSTM(1150, 1150, batch_first=True)\n",
       "        )\n",
       "        (2): WeightDropout(\n",
       "          (module): LSTM(1150, 400, batch_first=True)\n",
       "        )\n",
       "      )\n",
       "      (input_dp): RNNDropout()\n",
       "      (hidden_dps): ModuleList(\n",
       "        (0): RNNDropout()\n",
       "        (1): RNNDropout()\n",
       "        (2): RNNDropout()\n",
       "      )\n",
       "    )\n",
       "  )\n",
       "  (1): PoolingLinearClassifier(\n",
       "    (layers): Sequential(\n",
       "      (0): BatchNorm1d(1200, eps=1e-05, momentum=0.1, affine=True, track_running_stats=True)\n",
       "      (1): Dropout(p=0.2)\n",
       "      (2): Linear(in_features=1200, out_features=50, bias=True)\n",
       "      (3): ReLU(inplace)\n",
       "      (4): BatchNorm1d(50, eps=1e-05, momentum=0.1, affine=True, track_running_stats=True)\n",
       "      (5): Dropout(p=0.1)\n",
       "      (6): Linear(in_features=50, out_features=2, bias=True)\n",
       "    )\n",
       "  )\n",
       "), opt_func=functools.partial(<class 'torch.optim.adam.Adam'>, betas=(0.9, 0.99)), loss_func=FlattenedLoss of CrossEntropyLoss(), metrics=[<function accuracy at 0x1a275d4158>], true_wd=True, bn_wd=True, wd=0.01, train_bn=True, path=PosixPath('/Users/angelali/.fastai/data/imdb'), model_dir='models', callback_fns=[functools.partial(<class 'fastai.basic_train.Recorder'>, add_time=True, silent=False)], callbacks=[RNNTrainer\n",
       "learn: ...\n",
       "alpha: 2.0\n",
       "beta: 1.0], layer_groups=[Sequential(\n",
       "  (0): Embedding(49948, 400, padding_idx=1)\n",
       "  (1): EmbeddingDropout(\n",
       "    (emb): Embedding(49948, 400, padding_idx=1)\n",
       "  )\n",
       "), Sequential(\n",
       "  (0): WeightDropout(\n",
       "    (module): LSTM(400, 1150, batch_first=True)\n",
       "  )\n",
       "  (1): RNNDropout()\n",
       "), Sequential(\n",
       "  (0): WeightDropout(\n",
       "    (module): LSTM(1150, 1150, batch_first=True)\n",
       "  )\n",
       "  (1): RNNDropout()\n",
       "), Sequential(\n",
       "  (0): WeightDropout(\n",
       "    (module): LSTM(1150, 400, batch_first=True)\n",
       "  )\n",
       "  (1): RNNDropout()\n",
       "), Sequential(\n",
       "  (0): PoolingLinearClassifier(\n",
       "    (layers): Sequential(\n",
       "      (0): BatchNorm1d(1200, eps=1e-05, momentum=0.1, affine=True, track_running_stats=True)\n",
       "      (1): Dropout(p=0.2)\n",
       "      (2): Linear(in_features=1200, out_features=50, bias=True)\n",
       "      (3): ReLU(inplace)\n",
       "      (4): BatchNorm1d(50, eps=1e-05, momentum=0.1, affine=True, track_running_stats=True)\n",
       "      (5): Dropout(p=0.1)\n",
       "      (6): Linear(in_features=50, out_features=2, bias=True)\n",
       "    )\n",
       "  )\n",
       ")], add_time=True, silent=None)"
      ]
     },
     "execution_count": 59,
     "metadata": {},
     "output_type": "execute_result"
    }
   ],
   "source": [
    "learn.load('third')"
   ]
  },
  {
   "cell_type": "markdown",
   "metadata": {},
   "source": [
    "# Right now, the model accuracy is about 92%, and i am happy with it, so i try to use it to make prediction"
   ]
  },
  {
   "cell_type": "code",
   "execution_count": 60,
   "metadata": {},
   "outputs": [
    {
     "data": {
      "text/plain": [
       "(Category neg, tensor(0), tensor([0.5272, 0.4728]))"
      ]
     },
     "execution_count": 60,
     "metadata": {},
     "output_type": "execute_result"
    }
   ],
   "source": [
    "learn.predict(\"I dont like the movie\")"
   ]
  },
  {
   "cell_type": "code",
   "execution_count": 63,
   "metadata": {},
   "outputs": [
    {
     "data": {
      "text/plain": [
       "(Category neg, tensor(0), tensor([9.9998e-01, 2.4848e-05]))"
      ]
     },
     "execution_count": 63,
     "metadata": {},
     "output_type": "execute_result"
    }
   ],
   "source": [
    "learn.predict(\"the movie is boring, too long\")"
   ]
  },
  {
   "cell_type": "code",
   "execution_count": 68,
   "metadata": {},
   "outputs": [
    {
     "data": {
      "text/plain": [
       "fastai.text.learner.RNNLearner"
      ]
     },
     "execution_count": 68,
     "metadata": {},
     "output_type": "execute_result"
    }
   ],
   "source": [
    "type(learn)"
   ]
  },
  {
   "cell_type": "markdown",
   "metadata": {},
   "source": [
    "# Export and save my model, so next time i can just load and use it without running previous code"
   ]
  },
  {
   "cell_type": "code",
   "execution_count": 4,
   "metadata": {},
   "outputs": [],
   "source": [
    "from sklearn.externals import joblib"
   ]
  },
  {
   "cell_type": "code",
   "execution_count": 69,
   "metadata": {},
   "outputs": [
    {
     "data": {
      "text/plain": [
       "['my_language_classifer.sav']"
      ]
     },
     "execution_count": 69,
     "metadata": {},
     "output_type": "execute_result"
    }
   ],
   "source": [
    "filename = 'my_language_classifer.sav'\n",
    "joblib.dump(learn, filename)"
   ]
  },
  {
   "cell_type": "code",
   "execution_count": 5,
   "metadata": {},
   "outputs": [],
   "source": [
    "my_language_classifier = joblib.load('my_language_classifer.sav')"
   ]
  },
  {
   "cell_type": "markdown",
   "metadata": {},
   "source": [
    "the input of my model is any english sentence that related to movie review, then the model will classify the sentiment of the sentence as either positive or negative with propobility, the following are couple samples"
   ]
  },
  {
   "cell_type": "markdown",
   "metadata": {},
   "source": [
    "try a sentence with misspelled words and punctuation"
   ]
  },
  {
   "cell_type": "code",
   "execution_count": 4,
   "metadata": {
    "scrolled": true
   },
   "outputs": [
    {
     "data": {
      "text/plain": [
       "(Category pos, tensor(1), tensor([0.0028, 0.9972]))"
      ]
     },
     "execution_count": 4,
     "metadata": {},
     "output_type": "execute_result"
    }
   ],
   "source": [
    "my_language_classifier.predict(\"what a great movie, i enjoyedsds a lot, but just a bit too long\")"
   ]
  },
  {
   "cell_type": "code",
   "execution_count": 10,
   "metadata": {},
   "outputs": [
    {
     "data": {
      "text/plain": [
       "(Category neg, tensor(0), tensor([1.0000e+00, 3.5480e-10]))"
      ]
     },
     "execution_count": 10,
     "metadata": {},
     "output_type": "execute_result"
    }
   ],
   "source": [
    "my_language_classifier.predict(\"this is stupid, really waste my time\")"
   ]
  },
  {
   "cell_type": "markdown",
   "metadata": {},
   "source": [
    "try a vague sentence "
   ]
  },
  {
   "cell_type": "code",
   "execution_count": 11,
   "metadata": {},
   "outputs": [
    {
     "data": {
      "text/plain": [
       "(Category pos, tensor(1), tensor([4.3552e-04, 9.9956e-01]))"
      ]
     },
     "execution_count": 11,
     "metadata": {},
     "output_type": "execute_result"
    }
   ],
   "source": [
    "my_language_classifier.predict(\"i love the movie, bad actors, but great plot\")"
   ]
  },
  {
   "cell_type": "code",
   "execution_count": null,
   "metadata": {},
   "outputs": [],
   "source": []
  }
 ],
 "metadata": {
  "kernelspec": {
   "display_name": "Python 3",
   "language": "python",
   "name": "python3"
  },
  "language_info": {
   "codemirror_mode": {
    "name": "ipython",
    "version": 3
   },
   "file_extension": ".py",
   "mimetype": "text/x-python",
   "name": "python",
   "nbconvert_exporter": "python",
   "pygments_lexer": "ipython3",
   "version": "3.7.3"
  }
 },
 "nbformat": 4,
 "nbformat_minor": 2
}
