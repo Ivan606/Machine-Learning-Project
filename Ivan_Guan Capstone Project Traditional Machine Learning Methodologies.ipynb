{
 "cells": [
  {
   "cell_type": "markdown",
   "metadata": {},
   "source": [
    "# The goal of this project is perform sentiment analysis to IMDB movie reviews by using traditional machine learning methodologie such as logistic regression, random forest, svm and voting"
   ]
  },
  {
   "cell_type": "code",
   "execution_count": 1,
   "metadata": {},
   "outputs": [],
   "source": [
    "import os\n",
    "import pandas as pd"
   ]
  },
  {
   "cell_type": "markdown",
   "metadata": {},
   "source": [
    "The raw data contains 50000 movie reviews text files, I will use 25000 files as training dataset. "
   ]
  },
  {
   "cell_type": "markdown",
   "metadata": {},
   "source": [
    "# Data preprocessing "
   ]
  },
  {
   "cell_type": "markdown",
   "metadata": {},
   "source": [
    "The 25000 training data have 12500 postive reveiws and 12500 negative reviews. I will combine them into a pandas dataframe, and label them as positve or negative "
   ]
  },
  {
   "cell_type": "markdown",
   "metadata": {},
   "source": [
    "First, combine 12500 postive review text files into a dataframe"
   ]
  },
  {
   "cell_type": "code",
   "execution_count": 2,
   "metadata": {},
   "outputs": [],
   "source": [
    "file_names = os.listdir('/Users/angelali/Desktop/BrainStation/Capstone Project/aclImdb/train/pos')\n",
    "# Create Dictionary for File Name and Text\n",
    "file_name_and_text = {}\n",
    "for file in file_names:\n",
    "    with open('/Users/angelali/Desktop/BrainStation/Capstone Project/aclImdb/train/pos/' + file, \"r\") as target_file:\n",
    "         file_name_and_text[file] = target_file.read()\n",
    "file_data = (pd.DataFrame.from_dict(file_name_and_text, orient='index')\n",
    "             .reset_index().rename(index = str, columns = {'index': 'file_name', 0: 'text'}))"
   ]
  },
  {
   "cell_type": "code",
   "execution_count": 3,
   "metadata": {},
   "outputs": [
    {
     "data": {
      "text/html": [
       "<div>\n",
       "<style scoped>\n",
       "    .dataframe tbody tr th:only-of-type {\n",
       "        vertical-align: middle;\n",
       "    }\n",
       "\n",
       "    .dataframe tbody tr th {\n",
       "        vertical-align: top;\n",
       "    }\n",
       "\n",
       "    .dataframe thead th {\n",
       "        text-align: right;\n",
       "    }\n",
       "</style>\n",
       "<table border=\"1\" class=\"dataframe\">\n",
       "  <thead>\n",
       "    <tr style=\"text-align: right;\">\n",
       "      <th></th>\n",
       "      <th>file_name</th>\n",
       "      <th>text</th>\n",
       "    </tr>\n",
       "  </thead>\n",
       "  <tbody>\n",
       "    <tr>\n",
       "      <th>0</th>\n",
       "      <td>0_9.txt</td>\n",
       "      <td>Bromwell High is a cartoon comedy. It ran at t...</td>\n",
       "    </tr>\n",
       "    <tr>\n",
       "      <th>1</th>\n",
       "      <td>10000_8.txt</td>\n",
       "      <td>Homelessness (or Houselessness as George Carli...</td>\n",
       "    </tr>\n",
       "    <tr>\n",
       "      <th>2</th>\n",
       "      <td>10001_10.txt</td>\n",
       "      <td>Brilliant over-acting by Lesley Ann Warren. Be...</td>\n",
       "    </tr>\n",
       "    <tr>\n",
       "      <th>3</th>\n",
       "      <td>10002_7.txt</td>\n",
       "      <td>This is easily the most underrated film inn th...</td>\n",
       "    </tr>\n",
       "    <tr>\n",
       "      <th>4</th>\n",
       "      <td>10003_8.txt</td>\n",
       "      <td>This is not the typical Mel Brooks film. It wa...</td>\n",
       "    </tr>\n",
       "  </tbody>\n",
       "</table>\n",
       "</div>"
      ],
      "text/plain": [
       "      file_name                                               text\n",
       "0       0_9.txt  Bromwell High is a cartoon comedy. It ran at t...\n",
       "1   10000_8.txt  Homelessness (or Houselessness as George Carli...\n",
       "2  10001_10.txt  Brilliant over-acting by Lesley Ann Warren. Be...\n",
       "3   10002_7.txt  This is easily the most underrated film inn th...\n",
       "4   10003_8.txt  This is not the typical Mel Brooks film. It wa..."
      ]
     },
     "execution_count": 3,
     "metadata": {},
     "output_type": "execute_result"
    }
   ],
   "source": [
    "file_data.head()"
   ]
  },
  {
   "cell_type": "code",
   "execution_count": 4,
   "metadata": {},
   "outputs": [
    {
     "data": {
      "text/plain": [
       "12500"
      ]
     },
     "execution_count": 4,
     "metadata": {},
     "output_type": "execute_result"
    }
   ],
   "source": [
    "len(file_data)"
   ]
  },
  {
   "cell_type": "markdown",
   "metadata": {},
   "source": [
    "Preprosess the data by deleting the 'file_name' column"
   ]
  },
  {
   "cell_type": "code",
   "execution_count": 5,
   "metadata": {},
   "outputs": [],
   "source": [
    "del file_data['file_name']"
   ]
  },
  {
   "cell_type": "markdown",
   "metadata": {},
   "source": [
    "Take a look at one data sample"
   ]
  },
  {
   "cell_type": "code",
   "execution_count": 6,
   "metadata": {
    "scrolled": true
   },
   "outputs": [
    {
     "data": {
      "text/plain": [
       "'Homelessness (or Houselessness as George Carlin stated) has been an issue for years but never a plan to help those on the street that were once considered human who did everything from going to school, work, or vote for the matter. Most people think of the homeless as just a lost cause while worrying about things such as racism, the war on Iraq, pressuring kids to succeed, technology, the elections, inflation, or worrying if they\\'ll be next to end up on the streets.<br /><br />But what if you were given a bet to live on the streets for a month without the luxuries you once had from a home, the entertainment sets, a bathroom, pictures on the wall, a computer, and everything you once treasure to see what it\\'s like to be homeless? That is Goddard Bolt\\'s lesson.<br /><br />Mel Brooks (who directs) who stars as Bolt plays a rich man who has everything in the world until deciding to make a bet with a sissy rival (Jeffery Tambor) to see if he can live in the streets for thirty days without the luxuries; if Bolt succeeds, he can do what he wants with a future project of making more buildings. The bet\\'s on where Bolt is thrown on the street with a bracelet on his leg to monitor his every move where he can\\'t step off the sidewalk. He\\'s given the nickname Pepto by a vagrant after it\\'s written on his forehead where Bolt meets other characters including a woman by the name of Molly (Lesley Ann Warren) an ex-dancer who got divorce before losing her home, and her pals Sailor (Howard Morris) and Fumes (Teddy Wilson) who are already used to the streets. They\\'re survivors. Bolt isn\\'t. He\\'s not used to reaching mutual agreements like he once did when being rich where it\\'s fight or flight, kill or be killed.<br /><br />While the love connection between Molly and Bolt wasn\\'t necessary to plot, I found \"Life Stinks\" to be one of Mel Brooks\\' observant films where prior to being a comedy, it shows a tender side compared to his slapstick work such as Blazing Saddles, Young Frankenstein, or Spaceballs for the matter, to show what it\\'s like having something valuable before losing it the next day or on the other hand making a stupid bet like all rich people do when they don\\'t know what to do with their money. Maybe they should give it to the homeless instead of using it like Monopoly money.<br /><br />Or maybe this film will inspire you to help others.'"
      ]
     },
     "execution_count": 6,
     "metadata": {},
     "output_type": "execute_result"
    }
   ],
   "source": [
    "file_data['text'][1]"
   ]
  },
  {
   "cell_type": "markdown",
   "metadata": {},
   "source": [
    "Create a new column 'target' in order to label these data as positive "
   ]
  },
  {
   "cell_type": "code",
   "execution_count": 7,
   "metadata": {},
   "outputs": [],
   "source": [
    "file_data['target'] = 'pos'"
   ]
  },
  {
   "cell_type": "code",
   "execution_count": 8,
   "metadata": {},
   "outputs": [
    {
     "data": {
      "text/html": [
       "<div>\n",
       "<style scoped>\n",
       "    .dataframe tbody tr th:only-of-type {\n",
       "        vertical-align: middle;\n",
       "    }\n",
       "\n",
       "    .dataframe tbody tr th {\n",
       "        vertical-align: top;\n",
       "    }\n",
       "\n",
       "    .dataframe thead th {\n",
       "        text-align: right;\n",
       "    }\n",
       "</style>\n",
       "<table border=\"1\" class=\"dataframe\">\n",
       "  <thead>\n",
       "    <tr style=\"text-align: right;\">\n",
       "      <th></th>\n",
       "      <th>text</th>\n",
       "      <th>target</th>\n",
       "    </tr>\n",
       "  </thead>\n",
       "  <tbody>\n",
       "    <tr>\n",
       "      <th>0</th>\n",
       "      <td>Bromwell High is a cartoon comedy. It ran at t...</td>\n",
       "      <td>pos</td>\n",
       "    </tr>\n",
       "    <tr>\n",
       "      <th>1</th>\n",
       "      <td>Homelessness (or Houselessness as George Carli...</td>\n",
       "      <td>pos</td>\n",
       "    </tr>\n",
       "    <tr>\n",
       "      <th>2</th>\n",
       "      <td>Brilliant over-acting by Lesley Ann Warren. Be...</td>\n",
       "      <td>pos</td>\n",
       "    </tr>\n",
       "    <tr>\n",
       "      <th>3</th>\n",
       "      <td>This is easily the most underrated film inn th...</td>\n",
       "      <td>pos</td>\n",
       "    </tr>\n",
       "    <tr>\n",
       "      <th>4</th>\n",
       "      <td>This is not the typical Mel Brooks film. It wa...</td>\n",
       "      <td>pos</td>\n",
       "    </tr>\n",
       "  </tbody>\n",
       "</table>\n",
       "</div>"
      ],
      "text/plain": [
       "                                                text target\n",
       "0  Bromwell High is a cartoon comedy. It ran at t...    pos\n",
       "1  Homelessness (or Houselessness as George Carli...    pos\n",
       "2  Brilliant over-acting by Lesley Ann Warren. Be...    pos\n",
       "3  This is easily the most underrated film inn th...    pos\n",
       "4  This is not the typical Mel Brooks film. It wa...    pos"
      ]
     },
     "execution_count": 8,
     "metadata": {},
     "output_type": "execute_result"
    }
   ],
   "source": [
    "file_data.head()"
   ]
  },
  {
   "cell_type": "markdown",
   "metadata": {},
   "source": [
    "combine 12500 negative review text files into a dataframe"
   ]
  },
  {
   "cell_type": "code",
   "execution_count": 9,
   "metadata": {},
   "outputs": [],
   "source": [
    "file_names2 = os.listdir('/Users/angelali/Desktop/BrainStation/Capstone Project/aclImdb/train/neg')\n",
    "# Create Dictionary for File Name and Text\n",
    "file_name_and_text2 = {}\n",
    "for file in file_names2:\n",
    "    with open('/Users/angelali/Desktop/BrainStation/Capstone Project/aclImdb/train/neg/' + file, \"r\") as target_file:\n",
    "         file_name_and_text2[file] = target_file.read()\n",
    "file_data2 = (pd.DataFrame.from_dict(file_name_and_text2, orient='index')\n",
    "             .reset_index().rename(index = str, columns = {'index': 'file_name', 0: 'text'}))"
   ]
  },
  {
   "cell_type": "code",
   "execution_count": 10,
   "metadata": {},
   "outputs": [
    {
     "data": {
      "text/plain": [
       "12500"
      ]
     },
     "execution_count": 10,
     "metadata": {},
     "output_type": "execute_result"
    }
   ],
   "source": [
    "len(file_data2)"
   ]
  },
  {
   "cell_type": "markdown",
   "metadata": {},
   "source": [
    "Preprosess the data by deleting the 'file_name' column"
   ]
  },
  {
   "cell_type": "code",
   "execution_count": 11,
   "metadata": {},
   "outputs": [],
   "source": [
    "del file_data2['file_name']"
   ]
  },
  {
   "cell_type": "markdown",
   "metadata": {},
   "source": [
    "Create a new column 'target' in order to label these data as negative"
   ]
  },
  {
   "cell_type": "code",
   "execution_count": 12,
   "metadata": {},
   "outputs": [],
   "source": [
    "file_data2['target'] = 'neg'"
   ]
  },
  {
   "cell_type": "markdown",
   "metadata": {},
   "source": [
    "combine postive and negative dataframes into a new dataframe as my training dataset"
   ]
  },
  {
   "cell_type": "code",
   "execution_count": 13,
   "metadata": {},
   "outputs": [],
   "source": [
    "train_data = pd.concat([file_data, file_data2],axis=0,ignore_index= True)"
   ]
  },
  {
   "cell_type": "code",
   "execution_count": 14,
   "metadata": {},
   "outputs": [
    {
     "data": {
      "text/html": [
       "<div>\n",
       "<style scoped>\n",
       "    .dataframe tbody tr th:only-of-type {\n",
       "        vertical-align: middle;\n",
       "    }\n",
       "\n",
       "    .dataframe tbody tr th {\n",
       "        vertical-align: top;\n",
       "    }\n",
       "\n",
       "    .dataframe thead th {\n",
       "        text-align: right;\n",
       "    }\n",
       "</style>\n",
       "<table border=\"1\" class=\"dataframe\">\n",
       "  <thead>\n",
       "    <tr style=\"text-align: right;\">\n",
       "      <th></th>\n",
       "      <th>text</th>\n",
       "      <th>target</th>\n",
       "    </tr>\n",
       "  </thead>\n",
       "  <tbody>\n",
       "    <tr>\n",
       "      <th>0</th>\n",
       "      <td>Bromwell High is a cartoon comedy. It ran at t...</td>\n",
       "      <td>pos</td>\n",
       "    </tr>\n",
       "    <tr>\n",
       "      <th>1</th>\n",
       "      <td>Homelessness (or Houselessness as George Carli...</td>\n",
       "      <td>pos</td>\n",
       "    </tr>\n",
       "    <tr>\n",
       "      <th>2</th>\n",
       "      <td>Brilliant over-acting by Lesley Ann Warren. Be...</td>\n",
       "      <td>pos</td>\n",
       "    </tr>\n",
       "    <tr>\n",
       "      <th>3</th>\n",
       "      <td>This is easily the most underrated film inn th...</td>\n",
       "      <td>pos</td>\n",
       "    </tr>\n",
       "    <tr>\n",
       "      <th>4</th>\n",
       "      <td>This is not the typical Mel Brooks film. It wa...</td>\n",
       "      <td>pos</td>\n",
       "    </tr>\n",
       "    <tr>\n",
       "      <th>5</th>\n",
       "      <td>This isn't the comedic Robin Williams, nor is ...</td>\n",
       "      <td>pos</td>\n",
       "    </tr>\n",
       "    <tr>\n",
       "      <th>6</th>\n",
       "      <td>Yes its an art... to successfully make a slow ...</td>\n",
       "      <td>pos</td>\n",
       "    </tr>\n",
       "    <tr>\n",
       "      <th>7</th>\n",
       "      <td>In this \"critically acclaimed psychological th...</td>\n",
       "      <td>pos</td>\n",
       "    </tr>\n",
       "    <tr>\n",
       "      <th>8</th>\n",
       "      <td>THE NIGHT LISTENER (2006) **1/2 Robin Williams...</td>\n",
       "      <td>pos</td>\n",
       "    </tr>\n",
       "    <tr>\n",
       "      <th>9</th>\n",
       "      <td>You know, Robin Williams, God bless him, is co...</td>\n",
       "      <td>pos</td>\n",
       "    </tr>\n",
       "    <tr>\n",
       "      <th>10</th>\n",
       "      <td>When I first read Armistead Maupins story I wa...</td>\n",
       "      <td>pos</td>\n",
       "    </tr>\n",
       "    <tr>\n",
       "      <th>11</th>\n",
       "      <td>I liked the film. Some of the action scenes we...</td>\n",
       "      <td>pos</td>\n",
       "    </tr>\n",
       "    <tr>\n",
       "      <th>12</th>\n",
       "      <td>There are many illnesses born in the mind of m...</td>\n",
       "      <td>pos</td>\n",
       "    </tr>\n",
       "    <tr>\n",
       "      <th>13</th>\n",
       "      <td>I enjoyed The Night Listener very much. It's o...</td>\n",
       "      <td>pos</td>\n",
       "    </tr>\n",
       "    <tr>\n",
       "      <th>14</th>\n",
       "      <td>The Night Listener is probably not one of Will...</td>\n",
       "      <td>pos</td>\n",
       "    </tr>\n",
       "    <tr>\n",
       "      <th>15</th>\n",
       "      <td>Like one of the previous commenters said, this...</td>\n",
       "      <td>pos</td>\n",
       "    </tr>\n",
       "    <tr>\n",
       "      <th>16</th>\n",
       "      <td>The Night Listener held my attention, with Rob...</td>\n",
       "      <td>pos</td>\n",
       "    </tr>\n",
       "    <tr>\n",
       "      <th>17</th>\n",
       "      <td>Popular radio storyteller Gabriel No one(Robin...</td>\n",
       "      <td>pos</td>\n",
       "    </tr>\n",
       "    <tr>\n",
       "      <th>18</th>\n",
       "      <td>If there is one thing to recommend about this ...</td>\n",
       "      <td>pos</td>\n",
       "    </tr>\n",
       "    <tr>\n",
       "      <th>19</th>\n",
       "      <td>I absolutely LOVED this film! I do not at all ...</td>\n",
       "      <td>pos</td>\n",
       "    </tr>\n",
       "    <tr>\n",
       "      <th>20</th>\n",
       "      <td>This Night Listener is better than people are ...</td>\n",
       "      <td>pos</td>\n",
       "    </tr>\n",
       "    <tr>\n",
       "      <th>21</th>\n",
       "      <td>When it comes to movies I can be pretty picky,...</td>\n",
       "      <td>pos</td>\n",
       "    </tr>\n",
       "    <tr>\n",
       "      <th>22</th>\n",
       "      <td>Somewhat funny and well-paced action thriller ...</td>\n",
       "      <td>pos</td>\n",
       "    </tr>\n",
       "    <tr>\n",
       "      <th>23</th>\n",
       "      <td>The legendary Boris Karloff ended his illustri...</td>\n",
       "      <td>pos</td>\n",
       "    </tr>\n",
       "    <tr>\n",
       "      <th>24</th>\n",
       "      <td>This tale based on two Edgar Allen Poe pieces ...</td>\n",
       "      <td>pos</td>\n",
       "    </tr>\n",
       "    <tr>\n",
       "      <th>25</th>\n",
       "      <td>Aro Tolbukhin burnt alive seven people in a Mi...</td>\n",
       "      <td>pos</td>\n",
       "    </tr>\n",
       "    <tr>\n",
       "      <th>26</th>\n",
       "      <td>After seeing several movies of Villaronga, I h...</td>\n",
       "      <td>pos</td>\n",
       "    </tr>\n",
       "    <tr>\n",
       "      <th>27</th>\n",
       "      <td>There's so many things to fall for in Aro Tolb...</td>\n",
       "      <td>pos</td>\n",
       "    </tr>\n",
       "    <tr>\n",
       "      <th>28</th>\n",
       "      <td>This has got to be a unique twists of two genr...</td>\n",
       "      <td>pos</td>\n",
       "    </tr>\n",
       "    <tr>\n",
       "      <th>29</th>\n",
       "      <td>Without Kirsten Miller this project needn't ha...</td>\n",
       "      <td>pos</td>\n",
       "    </tr>\n",
       "    <tr>\n",
       "      <th>...</th>\n",
       "      <td>...</td>\n",
       "      <td>...</td>\n",
       "    </tr>\n",
       "    <tr>\n",
       "      <th>24970</th>\n",
       "      <td>I remember watching this movie several times a...</td>\n",
       "      <td>neg</td>\n",
       "    </tr>\n",
       "    <tr>\n",
       "      <th>24971</th>\n",
       "      <td>The first scene in 'Problem Child' has a baby ...</td>\n",
       "      <td>neg</td>\n",
       "    </tr>\n",
       "    <tr>\n",
       "      <th>24972</th>\n",
       "      <td>This kid is rather bad, but in no way do they ...</td>\n",
       "      <td>neg</td>\n",
       "    </tr>\n",
       "    <tr>\n",
       "      <th>24973</th>\n",
       "      <td>My girlfriend and I were stunned by how bad th...</td>\n",
       "      <td>neg</td>\n",
       "    </tr>\n",
       "    <tr>\n",
       "      <th>24974</th>\n",
       "      <td>This is one of the worst movies I have ever se...</td>\n",
       "      <td>neg</td>\n",
       "    </tr>\n",
       "    <tr>\n",
       "      <th>24975</th>\n",
       "      <td>Having just recently re-viewed \"Lipstick\" for ...</td>\n",
       "      <td>neg</td>\n",
       "    </tr>\n",
       "    <tr>\n",
       "      <th>24976</th>\n",
       "      <td>Don't waste 90 minutes of your time on \"Fast F...</td>\n",
       "      <td>neg</td>\n",
       "    </tr>\n",
       "    <tr>\n",
       "      <th>24977</th>\n",
       "      <td>This movie was billed as a comedy and a myster...</td>\n",
       "      <td>neg</td>\n",
       "    </tr>\n",
       "    <tr>\n",
       "      <th>24978</th>\n",
       "      <td>Story starts slow and nothing funny happens fo...</td>\n",
       "      <td>neg</td>\n",
       "    </tr>\n",
       "    <tr>\n",
       "      <th>24979</th>\n",
       "      <td>This film is a massive Yawn proving that Ameri...</td>\n",
       "      <td>neg</td>\n",
       "    </tr>\n",
       "    <tr>\n",
       "      <th>24980</th>\n",
       "      <td>It was a Sunday night and I was waiting for th...</td>\n",
       "      <td>neg</td>\n",
       "    </tr>\n",
       "    <tr>\n",
       "      <th>24981</th>\n",
       "      <td>Have I ever seen a film more shockingly inept?...</td>\n",
       "      <td>neg</td>\n",
       "    </tr>\n",
       "    <tr>\n",
       "      <th>24982</th>\n",
       "      <td>The next time you are at a party and someone a...</td>\n",
       "      <td>neg</td>\n",
       "    </tr>\n",
       "    <tr>\n",
       "      <th>24983</th>\n",
       "      <td>Turgid dialogue, feeble characterization - Har...</td>\n",
       "      <td>neg</td>\n",
       "    </tr>\n",
       "    <tr>\n",
       "      <th>24984</th>\n",
       "      <td>Cameron Diaz is a woman who is married to a ju...</td>\n",
       "      <td>neg</td>\n",
       "    </tr>\n",
       "    <tr>\n",
       "      <th>24985</th>\n",
       "      <td>I had the misfortune to watch this rubbish on ...</td>\n",
       "      <td>neg</td>\n",
       "    </tr>\n",
       "    <tr>\n",
       "      <th>24986</th>\n",
       "      <td>It's pretty bad when the generic movie synopsi...</td>\n",
       "      <td>neg</td>\n",
       "    </tr>\n",
       "    <tr>\n",
       "      <th>24987</th>\n",
       "      <td>Having watched this movie on the SciFi channel...</td>\n",
       "      <td>neg</td>\n",
       "    </tr>\n",
       "    <tr>\n",
       "      <th>24988</th>\n",
       "      <td>First off, I'm not here to dog this movie. I f...</td>\n",
       "      <td>neg</td>\n",
       "    </tr>\n",
       "    <tr>\n",
       "      <th>24989</th>\n",
       "      <td>Ah yez, the Sci Fi Channel produces Yeti anoth...</td>\n",
       "      <td>neg</td>\n",
       "    </tr>\n",
       "    <tr>\n",
       "      <th>24990</th>\n",
       "      <td>Yeti: Curse of the Snow Demon starts aboard a ...</td>\n",
       "      <td>neg</td>\n",
       "    </tr>\n",
       "    <tr>\n",
       "      <th>24991</th>\n",
       "      <td>Hmmm, a sports team is in a plane crash, gets ...</td>\n",
       "      <td>neg</td>\n",
       "    </tr>\n",
       "    <tr>\n",
       "      <th>24992</th>\n",
       "      <td>I saw this piece of garbage on AMC last night,...</td>\n",
       "      <td>neg</td>\n",
       "    </tr>\n",
       "    <tr>\n",
       "      <th>24993</th>\n",
       "      <td>Although the production and Jerry Jameson's di...</td>\n",
       "      <td>neg</td>\n",
       "    </tr>\n",
       "    <tr>\n",
       "      <th>24994</th>\n",
       "      <td>Capt. Gallagher (Lemmon) and flight attendant ...</td>\n",
       "      <td>neg</td>\n",
       "    </tr>\n",
       "    <tr>\n",
       "      <th>24995</th>\n",
       "      <td>Towards the end of the movie, I felt it was to...</td>\n",
       "      <td>neg</td>\n",
       "    </tr>\n",
       "    <tr>\n",
       "      <th>24996</th>\n",
       "      <td>This is the kind of movie that my enemies cont...</td>\n",
       "      <td>neg</td>\n",
       "    </tr>\n",
       "    <tr>\n",
       "      <th>24997</th>\n",
       "      <td>I saw 'Descent' last night at the Stockholm Fi...</td>\n",
       "      <td>neg</td>\n",
       "    </tr>\n",
       "    <tr>\n",
       "      <th>24998</th>\n",
       "      <td>Some films that you pick up for a pound turn o...</td>\n",
       "      <td>neg</td>\n",
       "    </tr>\n",
       "    <tr>\n",
       "      <th>24999</th>\n",
       "      <td>This is one of the dumbest films, I've ever se...</td>\n",
       "      <td>neg</td>\n",
       "    </tr>\n",
       "  </tbody>\n",
       "</table>\n",
       "<p>25000 rows × 2 columns</p>\n",
       "</div>"
      ],
      "text/plain": [
       "                                                    text target\n",
       "0      Bromwell High is a cartoon comedy. It ran at t...    pos\n",
       "1      Homelessness (or Houselessness as George Carli...    pos\n",
       "2      Brilliant over-acting by Lesley Ann Warren. Be...    pos\n",
       "3      This is easily the most underrated film inn th...    pos\n",
       "4      This is not the typical Mel Brooks film. It wa...    pos\n",
       "5      This isn't the comedic Robin Williams, nor is ...    pos\n",
       "6      Yes its an art... to successfully make a slow ...    pos\n",
       "7      In this \"critically acclaimed psychological th...    pos\n",
       "8      THE NIGHT LISTENER (2006) **1/2 Robin Williams...    pos\n",
       "9      You know, Robin Williams, God bless him, is co...    pos\n",
       "10     When I first read Armistead Maupins story I wa...    pos\n",
       "11     I liked the film. Some of the action scenes we...    pos\n",
       "12     There are many illnesses born in the mind of m...    pos\n",
       "13     I enjoyed The Night Listener very much. It's o...    pos\n",
       "14     The Night Listener is probably not one of Will...    pos\n",
       "15     Like one of the previous commenters said, this...    pos\n",
       "16     The Night Listener held my attention, with Rob...    pos\n",
       "17     Popular radio storyteller Gabriel No one(Robin...    pos\n",
       "18     If there is one thing to recommend about this ...    pos\n",
       "19     I absolutely LOVED this film! I do not at all ...    pos\n",
       "20     This Night Listener is better than people are ...    pos\n",
       "21     When it comes to movies I can be pretty picky,...    pos\n",
       "22     Somewhat funny and well-paced action thriller ...    pos\n",
       "23     The legendary Boris Karloff ended his illustri...    pos\n",
       "24     This tale based on two Edgar Allen Poe pieces ...    pos\n",
       "25     Aro Tolbukhin burnt alive seven people in a Mi...    pos\n",
       "26     After seeing several movies of Villaronga, I h...    pos\n",
       "27     There's so many things to fall for in Aro Tolb...    pos\n",
       "28     This has got to be a unique twists of two genr...    pos\n",
       "29     Without Kirsten Miller this project needn't ha...    pos\n",
       "...                                                  ...    ...\n",
       "24970  I remember watching this movie several times a...    neg\n",
       "24971  The first scene in 'Problem Child' has a baby ...    neg\n",
       "24972  This kid is rather bad, but in no way do they ...    neg\n",
       "24973  My girlfriend and I were stunned by how bad th...    neg\n",
       "24974  This is one of the worst movies I have ever se...    neg\n",
       "24975  Having just recently re-viewed \"Lipstick\" for ...    neg\n",
       "24976  Don't waste 90 minutes of your time on \"Fast F...    neg\n",
       "24977  This movie was billed as a comedy and a myster...    neg\n",
       "24978  Story starts slow and nothing funny happens fo...    neg\n",
       "24979  This film is a massive Yawn proving that Ameri...    neg\n",
       "24980  It was a Sunday night and I was waiting for th...    neg\n",
       "24981  Have I ever seen a film more shockingly inept?...    neg\n",
       "24982  The next time you are at a party and someone a...    neg\n",
       "24983  Turgid dialogue, feeble characterization - Har...    neg\n",
       "24984  Cameron Diaz is a woman who is married to a ju...    neg\n",
       "24985  I had the misfortune to watch this rubbish on ...    neg\n",
       "24986  It's pretty bad when the generic movie synopsi...    neg\n",
       "24987  Having watched this movie on the SciFi channel...    neg\n",
       "24988  First off, I'm not here to dog this movie. I f...    neg\n",
       "24989  Ah yez, the Sci Fi Channel produces Yeti anoth...    neg\n",
       "24990  Yeti: Curse of the Snow Demon starts aboard a ...    neg\n",
       "24991  Hmmm, a sports team is in a plane crash, gets ...    neg\n",
       "24992  I saw this piece of garbage on AMC last night,...    neg\n",
       "24993  Although the production and Jerry Jameson's di...    neg\n",
       "24994  Capt. Gallagher (Lemmon) and flight attendant ...    neg\n",
       "24995  Towards the end of the movie, I felt it was to...    neg\n",
       "24996  This is the kind of movie that my enemies cont...    neg\n",
       "24997  I saw 'Descent' last night at the Stockholm Fi...    neg\n",
       "24998  Some films that you pick up for a pound turn o...    neg\n",
       "24999  This is one of the dumbest films, I've ever se...    neg\n",
       "\n",
       "[25000 rows x 2 columns]"
      ]
     },
     "execution_count": 14,
     "metadata": {},
     "output_type": "execute_result"
    }
   ],
   "source": [
    "train_data"
   ]
  },
  {
   "cell_type": "markdown",
   "metadata": {},
   "source": [
    "Now, I am going to build my test dataframe"
   ]
  },
  {
   "cell_type": "markdown",
   "metadata": {},
   "source": [
    "First, combine another 12500 postive review text files into a dataframe"
   ]
  },
  {
   "cell_type": "code",
   "execution_count": 15,
   "metadata": {},
   "outputs": [],
   "source": [
    "file_names3 = os.listdir('/Users/angelali/Desktop/BrainStation/Capstone Project/aclImdb/test/pos')\n",
    "# Create Dictionary for File Name and Text\n",
    "file_name_and_text3 = {}\n",
    "for file in file_names3:\n",
    "    with open('/Users/angelali/Desktop/BrainStation/Capstone Project/aclImdb/test/pos/' + file, \"r\") as target_file:\n",
    "         file_name_and_text3[file] = target_file.read()\n",
    "file_data3 = (pd.DataFrame.from_dict(file_name_and_text3, orient='index')\n",
    "             .reset_index().rename(index = str, columns = {'index': 'file_name', 0: 'text'}))"
   ]
  },
  {
   "cell_type": "markdown",
   "metadata": {},
   "source": [
    "Delete the 'file name' column "
   ]
  },
  {
   "cell_type": "code",
   "execution_count": 16,
   "metadata": {},
   "outputs": [],
   "source": [
    "del file_data3['file_name']"
   ]
  },
  {
   "cell_type": "markdown",
   "metadata": {},
   "source": [
    "Create a new column 'target' in order to label these data as positive"
   ]
  },
  {
   "cell_type": "code",
   "execution_count": 17,
   "metadata": {},
   "outputs": [],
   "source": [
    "file_data3['target'] = 'pos'"
   ]
  },
  {
   "cell_type": "code",
   "execution_count": 18,
   "metadata": {},
   "outputs": [
    {
     "data": {
      "text/html": [
       "<div>\n",
       "<style scoped>\n",
       "    .dataframe tbody tr th:only-of-type {\n",
       "        vertical-align: middle;\n",
       "    }\n",
       "\n",
       "    .dataframe tbody tr th {\n",
       "        vertical-align: top;\n",
       "    }\n",
       "\n",
       "    .dataframe thead th {\n",
       "        text-align: right;\n",
       "    }\n",
       "</style>\n",
       "<table border=\"1\" class=\"dataframe\">\n",
       "  <thead>\n",
       "    <tr style=\"text-align: right;\">\n",
       "      <th></th>\n",
       "      <th>text</th>\n",
       "      <th>target</th>\n",
       "    </tr>\n",
       "  </thead>\n",
       "  <tbody>\n",
       "    <tr>\n",
       "      <th>0</th>\n",
       "      <td>I went and saw this movie last night after bei...</td>\n",
       "      <td>pos</td>\n",
       "    </tr>\n",
       "    <tr>\n",
       "      <th>1</th>\n",
       "      <td>Actor turned director Bill Paxton follows up h...</td>\n",
       "      <td>pos</td>\n",
       "    </tr>\n",
       "    <tr>\n",
       "      <th>2</th>\n",
       "      <td>As a recreational golfer with some knowledge o...</td>\n",
       "      <td>pos</td>\n",
       "    </tr>\n",
       "    <tr>\n",
       "      <th>3</th>\n",
       "      <td>I saw this film in a sneak preview, and it is ...</td>\n",
       "      <td>pos</td>\n",
       "    </tr>\n",
       "    <tr>\n",
       "      <th>4</th>\n",
       "      <td>Bill Paxton has taken the true story of the 19...</td>\n",
       "      <td>pos</td>\n",
       "    </tr>\n",
       "  </tbody>\n",
       "</table>\n",
       "</div>"
      ],
      "text/plain": [
       "                                                text target\n",
       "0  I went and saw this movie last night after bei...    pos\n",
       "1  Actor turned director Bill Paxton follows up h...    pos\n",
       "2  As a recreational golfer with some knowledge o...    pos\n",
       "3  I saw this film in a sneak preview, and it is ...    pos\n",
       "4  Bill Paxton has taken the true story of the 19...    pos"
      ]
     },
     "execution_count": 18,
     "metadata": {},
     "output_type": "execute_result"
    }
   ],
   "source": [
    "file_data3.head()"
   ]
  },
  {
   "cell_type": "markdown",
   "metadata": {},
   "source": [
    "Combine another 12500 negative review text files into a dataframe"
   ]
  },
  {
   "cell_type": "code",
   "execution_count": 19,
   "metadata": {},
   "outputs": [],
   "source": [
    "file_names4 = os.listdir('/Users/angelali/Desktop/BrainStation/Capstone Project/aclImdb/test/neg')\n",
    "# Create Dictionary for File Name and Text\n",
    "file_name_and_text4 = {}\n",
    "for file in file_names4:\n",
    "    with open('/Users/angelali/Desktop/BrainStation/Capstone Project/aclImdb/test/neg/' + file, \"r\") as target_file:\n",
    "         file_name_and_text4[file] = target_file.read()\n",
    "file_data4 = (pd.DataFrame.from_dict(file_name_and_text4, orient='index')\n",
    "             .reset_index().rename(index = str, columns = {'index': 'file_name', 0: 'text'}))"
   ]
  },
  {
   "cell_type": "markdown",
   "metadata": {},
   "source": [
    "Delete the 'file name' column "
   ]
  },
  {
   "cell_type": "code",
   "execution_count": 20,
   "metadata": {},
   "outputs": [],
   "source": [
    "del file_data4['file_name']"
   ]
  },
  {
   "cell_type": "markdown",
   "metadata": {},
   "source": [
    "Create a new column 'target' in order to label these data as negative"
   ]
  },
  {
   "cell_type": "code",
   "execution_count": 21,
   "metadata": {},
   "outputs": [],
   "source": [
    "file_data4['target'] = 'neg'"
   ]
  },
  {
   "cell_type": "code",
   "execution_count": 22,
   "metadata": {},
   "outputs": [
    {
     "data": {
      "text/html": [
       "<div>\n",
       "<style scoped>\n",
       "    .dataframe tbody tr th:only-of-type {\n",
       "        vertical-align: middle;\n",
       "    }\n",
       "\n",
       "    .dataframe tbody tr th {\n",
       "        vertical-align: top;\n",
       "    }\n",
       "\n",
       "    .dataframe thead th {\n",
       "        text-align: right;\n",
       "    }\n",
       "</style>\n",
       "<table border=\"1\" class=\"dataframe\">\n",
       "  <thead>\n",
       "    <tr style=\"text-align: right;\">\n",
       "      <th></th>\n",
       "      <th>text</th>\n",
       "      <th>target</th>\n",
       "    </tr>\n",
       "  </thead>\n",
       "  <tbody>\n",
       "    <tr>\n",
       "      <th>0</th>\n",
       "      <td>Once again Mr. Costner has dragged out a movie...</td>\n",
       "      <td>neg</td>\n",
       "    </tr>\n",
       "    <tr>\n",
       "      <th>1</th>\n",
       "      <td>This is an example of why the majority of acti...</td>\n",
       "      <td>neg</td>\n",
       "    </tr>\n",
       "    <tr>\n",
       "      <th>2</th>\n",
       "      <td>First of all I hate those moronic rappers, who...</td>\n",
       "      <td>neg</td>\n",
       "    </tr>\n",
       "    <tr>\n",
       "      <th>3</th>\n",
       "      <td>Not even the Beatles could write songs everyon...</td>\n",
       "      <td>neg</td>\n",
       "    </tr>\n",
       "    <tr>\n",
       "      <th>4</th>\n",
       "      <td>Brass pictures (movies is not a fitting word f...</td>\n",
       "      <td>neg</td>\n",
       "    </tr>\n",
       "  </tbody>\n",
       "</table>\n",
       "</div>"
      ],
      "text/plain": [
       "                                                text target\n",
       "0  Once again Mr. Costner has dragged out a movie...    neg\n",
       "1  This is an example of why the majority of acti...    neg\n",
       "2  First of all I hate those moronic rappers, who...    neg\n",
       "3  Not even the Beatles could write songs everyon...    neg\n",
       "4  Brass pictures (movies is not a fitting word f...    neg"
      ]
     },
     "execution_count": 22,
     "metadata": {},
     "output_type": "execute_result"
    }
   ],
   "source": [
    "file_data4.head()"
   ]
  },
  {
   "cell_type": "markdown",
   "metadata": {},
   "source": [
    "combine postive and negative dataframes into a new dataframe as my test dataset"
   ]
  },
  {
   "cell_type": "code",
   "execution_count": 23,
   "metadata": {},
   "outputs": [],
   "source": [
    "test_data = pd.concat([file_data3, file_data4],axis=0,ignore_index= True)"
   ]
  },
  {
   "cell_type": "code",
   "execution_count": 24,
   "metadata": {},
   "outputs": [
    {
     "data": {
      "text/html": [
       "<div>\n",
       "<style scoped>\n",
       "    .dataframe tbody tr th:only-of-type {\n",
       "        vertical-align: middle;\n",
       "    }\n",
       "\n",
       "    .dataframe tbody tr th {\n",
       "        vertical-align: top;\n",
       "    }\n",
       "\n",
       "    .dataframe thead th {\n",
       "        text-align: right;\n",
       "    }\n",
       "</style>\n",
       "<table border=\"1\" class=\"dataframe\">\n",
       "  <thead>\n",
       "    <tr style=\"text-align: right;\">\n",
       "      <th></th>\n",
       "      <th>text</th>\n",
       "      <th>target</th>\n",
       "    </tr>\n",
       "  </thead>\n",
       "  <tbody>\n",
       "    <tr>\n",
       "      <th>0</th>\n",
       "      <td>I went and saw this movie last night after bei...</td>\n",
       "      <td>pos</td>\n",
       "    </tr>\n",
       "    <tr>\n",
       "      <th>1</th>\n",
       "      <td>Actor turned director Bill Paxton follows up h...</td>\n",
       "      <td>pos</td>\n",
       "    </tr>\n",
       "    <tr>\n",
       "      <th>2</th>\n",
       "      <td>As a recreational golfer with some knowledge o...</td>\n",
       "      <td>pos</td>\n",
       "    </tr>\n",
       "    <tr>\n",
       "      <th>3</th>\n",
       "      <td>I saw this film in a sneak preview, and it is ...</td>\n",
       "      <td>pos</td>\n",
       "    </tr>\n",
       "    <tr>\n",
       "      <th>4</th>\n",
       "      <td>Bill Paxton has taken the true story of the 19...</td>\n",
       "      <td>pos</td>\n",
       "    </tr>\n",
       "    <tr>\n",
       "      <th>5</th>\n",
       "      <td>I saw this film on September 1st, 2005 in Indi...</td>\n",
       "      <td>pos</td>\n",
       "    </tr>\n",
       "    <tr>\n",
       "      <th>6</th>\n",
       "      <td>Maybe I'm reading into this too much, but I wo...</td>\n",
       "      <td>pos</td>\n",
       "    </tr>\n",
       "    <tr>\n",
       "      <th>7</th>\n",
       "      <td>I felt this film did have many good qualities....</td>\n",
       "      <td>pos</td>\n",
       "    </tr>\n",
       "    <tr>\n",
       "      <th>8</th>\n",
       "      <td>This movie is amazing because the fact that th...</td>\n",
       "      <td>pos</td>\n",
       "    </tr>\n",
       "    <tr>\n",
       "      <th>9</th>\n",
       "      <td>\"Quitting\" may be as much about exiting a pre-...</td>\n",
       "      <td>pos</td>\n",
       "    </tr>\n",
       "    <tr>\n",
       "      <th>10</th>\n",
       "      <td>I loved this movie from beginning to end.I am ...</td>\n",
       "      <td>pos</td>\n",
       "    </tr>\n",
       "    <tr>\n",
       "      <th>11</th>\n",
       "      <td>I was fortunate to attend the London premier o...</td>\n",
       "      <td>pos</td>\n",
       "    </tr>\n",
       "    <tr>\n",
       "      <th>12</th>\n",
       "      <td>I first saw this movie on IFC. Which is a grea...</td>\n",
       "      <td>pos</td>\n",
       "    </tr>\n",
       "    <tr>\n",
       "      <th>13</th>\n",
       "      <td>I must say, every time I see this movie, I am ...</td>\n",
       "      <td>pos</td>\n",
       "    </tr>\n",
       "    <tr>\n",
       "      <th>14</th>\n",
       "      <td>My wife is a mental health therapist and we wa...</td>\n",
       "      <td>pos</td>\n",
       "    </tr>\n",
       "    <tr>\n",
       "      <th>15</th>\n",
       "      <td>I saw this film at the Rotterdam International...</td>\n",
       "      <td>pos</td>\n",
       "    </tr>\n",
       "    <tr>\n",
       "      <th>16</th>\n",
       "      <td>\"Night of the Hunted\" stars French porn star B...</td>\n",
       "      <td>pos</td>\n",
       "    </tr>\n",
       "    <tr>\n",
       "      <th>17</th>\n",
       "      <td>Even if you're a fan of Jean Rollin's idiosync...</td>\n",
       "      <td>pos</td>\n",
       "    </tr>\n",
       "    <tr>\n",
       "      <th>18</th>\n",
       "      <td>I was surprised how much I enjoyed this. Sure ...</td>\n",
       "      <td>pos</td>\n",
       "    </tr>\n",
       "    <tr>\n",
       "      <th>19</th>\n",
       "      <td>I went into \"Night of the Hunted\" not knowing ...</td>\n",
       "      <td>pos</td>\n",
       "    </tr>\n",
       "    <tr>\n",
       "      <th>20</th>\n",
       "      <td>I have certainly not seen all of Jean Rollin's...</td>\n",
       "      <td>pos</td>\n",
       "    </tr>\n",
       "    <tr>\n",
       "      <th>21</th>\n",
       "      <td>Since this cartoon was made in the old days, F...</td>\n",
       "      <td>pos</td>\n",
       "    </tr>\n",
       "    <tr>\n",
       "      <th>22</th>\n",
       "      <td>Despite the title and unlike some other storie...</td>\n",
       "      <td>pos</td>\n",
       "    </tr>\n",
       "    <tr>\n",
       "      <th>23</th>\n",
       "      <td>Felix in Hollywood is a great film. The versio...</td>\n",
       "      <td>pos</td>\n",
       "    </tr>\n",
       "    <tr>\n",
       "      <th>24</th>\n",
       "      <td>A gem of a cartoon from the silent era---it wa...</td>\n",
       "      <td>pos</td>\n",
       "    </tr>\n",
       "    <tr>\n",
       "      <th>25</th>\n",
       "      <td>This short is one of the best of all time and ...</td>\n",
       "      <td>pos</td>\n",
       "    </tr>\n",
       "    <tr>\n",
       "      <th>26</th>\n",
       "      <td>Felix is watching an actor rehearse his lines:...</td>\n",
       "      <td>pos</td>\n",
       "    </tr>\n",
       "    <tr>\n",
       "      <th>27</th>\n",
       "      <td>While I can't say whether or not Larry Hama ev...</td>\n",
       "      <td>pos</td>\n",
       "    </tr>\n",
       "    <tr>\n",
       "      <th>28</th>\n",
       "      <td>Errol Flynn's roguish charm really shines thro...</td>\n",
       "      <td>pos</td>\n",
       "    </tr>\n",
       "    <tr>\n",
       "      <th>29</th>\n",
       "      <td>Warner Brothers tampered considerably with Ame...</td>\n",
       "      <td>pos</td>\n",
       "    </tr>\n",
       "    <tr>\n",
       "      <th>...</th>\n",
       "      <td>...</td>\n",
       "      <td>...</td>\n",
       "    </tr>\n",
       "    <tr>\n",
       "      <th>24970</th>\n",
       "      <td>I was expecting \"Born to Kill\" to be an exciti...</td>\n",
       "      <td>neg</td>\n",
       "    </tr>\n",
       "    <tr>\n",
       "      <th>24971</th>\n",
       "      <td>Fellow Giallo-fanatics: beware and/or proceed ...</td>\n",
       "      <td>neg</td>\n",
       "    </tr>\n",
       "    <tr>\n",
       "      <th>24972</th>\n",
       "      <td>I'm almost embarrassed to admit to seeing CALI...</td>\n",
       "      <td>neg</td>\n",
       "    </tr>\n",
       "    <tr>\n",
       "      <th>24973</th>\n",
       "      <td>I rated this movie a 3 and that was generous. ...</td>\n",
       "      <td>neg</td>\n",
       "    </tr>\n",
       "    <tr>\n",
       "      <th>24974</th>\n",
       "      <td>\"Caligula\" shares many of the same attributes ...</td>\n",
       "      <td>neg</td>\n",
       "    </tr>\n",
       "    <tr>\n",
       "      <th>24975</th>\n",
       "      <td>Writer &amp; director Robert Downey, Sr., a pionee...</td>\n",
       "      <td>neg</td>\n",
       "    </tr>\n",
       "    <tr>\n",
       "      <th>24976</th>\n",
       "      <td>Probably not the same version as most of the o...</td>\n",
       "      <td>neg</td>\n",
       "    </tr>\n",
       "    <tr>\n",
       "      <th>24977</th>\n",
       "      <td>Who really wants to see that? Disgusting viole...</td>\n",
       "      <td>neg</td>\n",
       "    </tr>\n",
       "    <tr>\n",
       "      <th>24978</th>\n",
       "      <td>As a semi-film buff, I had heard of this infam...</td>\n",
       "      <td>neg</td>\n",
       "    </tr>\n",
       "    <tr>\n",
       "      <th>24979</th>\n",
       "      <td>210 minute version (extremely hardcore, or so ...</td>\n",
       "      <td>neg</td>\n",
       "    </tr>\n",
       "    <tr>\n",
       "      <th>24980</th>\n",
       "      <td>Although its plot is taken from the history of...</td>\n",
       "      <td>neg</td>\n",
       "    </tr>\n",
       "    <tr>\n",
       "      <th>24981</th>\n",
       "      <td>I found the movie at my local video store and ...</td>\n",
       "      <td>neg</td>\n",
       "    </tr>\n",
       "    <tr>\n",
       "      <th>24982</th>\n",
       "      <td>As an ancient movie fan, I had heard much abou...</td>\n",
       "      <td>neg</td>\n",
       "    </tr>\n",
       "    <tr>\n",
       "      <th>24983</th>\n",
       "      <td>Incomprehensibly dreadful mishmash of the prob...</td>\n",
       "      <td>neg</td>\n",
       "    </tr>\n",
       "    <tr>\n",
       "      <th>24984</th>\n",
       "      <td>I'm currently slogging through Gibbon's 'Fall ...</td>\n",
       "      <td>neg</td>\n",
       "    </tr>\n",
       "    <tr>\n",
       "      <th>24985</th>\n",
       "      <td>It's a rare sensation to come across a film so...</td>\n",
       "      <td>neg</td>\n",
       "    </tr>\n",
       "    <tr>\n",
       "      <th>24986</th>\n",
       "      <td>Starting with a tearjerking poem and images of...</td>\n",
       "      <td>neg</td>\n",
       "    </tr>\n",
       "    <tr>\n",
       "      <th>24987</th>\n",
       "      <td>I saw this film at the tender age of 18 with a...</td>\n",
       "      <td>neg</td>\n",
       "    </tr>\n",
       "    <tr>\n",
       "      <th>24988</th>\n",
       "      <td>It's rare to see film that strikes out in ever...</td>\n",
       "      <td>neg</td>\n",
       "    </tr>\n",
       "    <tr>\n",
       "      <th>24989</th>\n",
       "      <td>Some describe CALIGULIA as \"the\" most controve...</td>\n",
       "      <td>neg</td>\n",
       "    </tr>\n",
       "    <tr>\n",
       "      <th>24990</th>\n",
       "      <td>As I read the script on-line, I thought \"Capot...</td>\n",
       "      <td>neg</td>\n",
       "    </tr>\n",
       "    <tr>\n",
       "      <th>24991</th>\n",
       "      <td>In this film, we're invited to observe the des...</td>\n",
       "      <td>neg</td>\n",
       "    </tr>\n",
       "    <tr>\n",
       "      <th>24992</th>\n",
       "      <td>many people said this was a great movie with H...</td>\n",
       "      <td>neg</td>\n",
       "    </tr>\n",
       "    <tr>\n",
       "      <th>24993</th>\n",
       "      <td>This is one dreary, inert, self-important bore...</td>\n",
       "      <td>neg</td>\n",
       "    </tr>\n",
       "    <tr>\n",
       "      <th>24994</th>\n",
       "      <td>Awful, awful, awful times a hundred still does...</td>\n",
       "      <td>neg</td>\n",
       "    </tr>\n",
       "    <tr>\n",
       "      <th>24995</th>\n",
       "      <td>I occasionally let my kids watch this garbage ...</td>\n",
       "      <td>neg</td>\n",
       "    </tr>\n",
       "    <tr>\n",
       "      <th>24996</th>\n",
       "      <td>When all we have anymore is pretty much realit...</td>\n",
       "      <td>neg</td>\n",
       "    </tr>\n",
       "    <tr>\n",
       "      <th>24997</th>\n",
       "      <td>The basic genre is a thriller intercut with an...</td>\n",
       "      <td>neg</td>\n",
       "    </tr>\n",
       "    <tr>\n",
       "      <th>24998</th>\n",
       "      <td>Four things intrigued me as to this film - fir...</td>\n",
       "      <td>neg</td>\n",
       "    </tr>\n",
       "    <tr>\n",
       "      <th>24999</th>\n",
       "      <td>David Bryce's comments nearby are exceptionall...</td>\n",
       "      <td>neg</td>\n",
       "    </tr>\n",
       "  </tbody>\n",
       "</table>\n",
       "<p>25000 rows × 2 columns</p>\n",
       "</div>"
      ],
      "text/plain": [
       "                                                    text target\n",
       "0      I went and saw this movie last night after bei...    pos\n",
       "1      Actor turned director Bill Paxton follows up h...    pos\n",
       "2      As a recreational golfer with some knowledge o...    pos\n",
       "3      I saw this film in a sneak preview, and it is ...    pos\n",
       "4      Bill Paxton has taken the true story of the 19...    pos\n",
       "5      I saw this film on September 1st, 2005 in Indi...    pos\n",
       "6      Maybe I'm reading into this too much, but I wo...    pos\n",
       "7      I felt this film did have many good qualities....    pos\n",
       "8      This movie is amazing because the fact that th...    pos\n",
       "9      \"Quitting\" may be as much about exiting a pre-...    pos\n",
       "10     I loved this movie from beginning to end.I am ...    pos\n",
       "11     I was fortunate to attend the London premier o...    pos\n",
       "12     I first saw this movie on IFC. Which is a grea...    pos\n",
       "13     I must say, every time I see this movie, I am ...    pos\n",
       "14     My wife is a mental health therapist and we wa...    pos\n",
       "15     I saw this film at the Rotterdam International...    pos\n",
       "16     \"Night of the Hunted\" stars French porn star B...    pos\n",
       "17     Even if you're a fan of Jean Rollin's idiosync...    pos\n",
       "18     I was surprised how much I enjoyed this. Sure ...    pos\n",
       "19     I went into \"Night of the Hunted\" not knowing ...    pos\n",
       "20     I have certainly not seen all of Jean Rollin's...    pos\n",
       "21     Since this cartoon was made in the old days, F...    pos\n",
       "22     Despite the title and unlike some other storie...    pos\n",
       "23     Felix in Hollywood is a great film. The versio...    pos\n",
       "24     A gem of a cartoon from the silent era---it wa...    pos\n",
       "25     This short is one of the best of all time and ...    pos\n",
       "26     Felix is watching an actor rehearse his lines:...    pos\n",
       "27     While I can't say whether or not Larry Hama ev...    pos\n",
       "28     Errol Flynn's roguish charm really shines thro...    pos\n",
       "29     Warner Brothers tampered considerably with Ame...    pos\n",
       "...                                                  ...    ...\n",
       "24970  I was expecting \"Born to Kill\" to be an exciti...    neg\n",
       "24971  Fellow Giallo-fanatics: beware and/or proceed ...    neg\n",
       "24972  I'm almost embarrassed to admit to seeing CALI...    neg\n",
       "24973  I rated this movie a 3 and that was generous. ...    neg\n",
       "24974  \"Caligula\" shares many of the same attributes ...    neg\n",
       "24975  Writer & director Robert Downey, Sr., a pionee...    neg\n",
       "24976  Probably not the same version as most of the o...    neg\n",
       "24977  Who really wants to see that? Disgusting viole...    neg\n",
       "24978  As a semi-film buff, I had heard of this infam...    neg\n",
       "24979  210 minute version (extremely hardcore, or so ...    neg\n",
       "24980  Although its plot is taken from the history of...    neg\n",
       "24981  I found the movie at my local video store and ...    neg\n",
       "24982  As an ancient movie fan, I had heard much abou...    neg\n",
       "24983  Incomprehensibly dreadful mishmash of the prob...    neg\n",
       "24984  I'm currently slogging through Gibbon's 'Fall ...    neg\n",
       "24985  It's a rare sensation to come across a film so...    neg\n",
       "24986  Starting with a tearjerking poem and images of...    neg\n",
       "24987  I saw this film at the tender age of 18 with a...    neg\n",
       "24988  It's rare to see film that strikes out in ever...    neg\n",
       "24989  Some describe CALIGULIA as \"the\" most controve...    neg\n",
       "24990  As I read the script on-line, I thought \"Capot...    neg\n",
       "24991  In this film, we're invited to observe the des...    neg\n",
       "24992  many people said this was a great movie with H...    neg\n",
       "24993  This is one dreary, inert, self-important bore...    neg\n",
       "24994  Awful, awful, awful times a hundred still does...    neg\n",
       "24995  I occasionally let my kids watch this garbage ...    neg\n",
       "24996  When all we have anymore is pretty much realit...    neg\n",
       "24997  The basic genre is a thriller intercut with an...    neg\n",
       "24998  Four things intrigued me as to this film - fir...    neg\n",
       "24999  David Bryce's comments nearby are exceptionall...    neg\n",
       "\n",
       "[25000 rows x 2 columns]"
      ]
     },
     "execution_count": 24,
     "metadata": {},
     "output_type": "execute_result"
    }
   ],
   "source": [
    "test_data"
   ]
  },
  {
   "cell_type": "markdown",
   "metadata": {},
   "source": [
    "seperate the data into feature and target"
   ]
  },
  {
   "cell_type": "code",
   "execution_count": 25,
   "metadata": {},
   "outputs": [],
   "source": [
    "feature = train_data['text']\n",
    "target = train_data['target']\n",
    "feature_test = test_data['text']\n",
    "target_test = test_data['target']"
   ]
  },
  {
   "cell_type": "markdown",
   "metadata": {},
   "source": [
    "# Tokenized the data"
   ]
  },
  {
   "cell_type": "code",
   "execution_count": 26,
   "metadata": {},
   "outputs": [],
   "source": [
    "from sklearn.feature_extraction.text import CountVectorizer\n",
    "from sklearn.model_selection import train_test_split\n",
    "from sklearn.model_selection import cross_val_score\n",
    "from sklearn.linear_model import LogisticRegression\n",
    "import string\n",
    "import nltk\n",
    "from sklearn.feature_extraction.text import ENGLISH_STOP_WORDS\n",
    "stemmer = nltk.stem.PorterStemmer()"
   ]
  },
  {
   "cell_type": "markdown",
   "metadata": {},
   "source": [
    "build a function to preprosess the text data so that it can be tokenized later "
   ]
  },
  {
   "cell_type": "code",
   "execution_count": 27,
   "metadata": {},
   "outputs": [],
   "source": [
    "def my_tokenizer(sentence):\n",
    "\n",
    "    listofwords = sentence.split(' ')\n",
    "    listofstemmed_words = []\n",
    "    \n",
    "    for word in listofwords:\n",
    "        # Remove stopwords\n",
    "        if word in ENGLISH_STOP_WORDS: continue\n",
    "        # Stem words\n",
    "        stemmed_word = stemmer.stem(word)\n",
    "        for punctuation_mark in string.punctuation:\n",
    "            # Remove punctuation and set to lower case\n",
    "            stemmed_word = stemmed_word.replace(punctuation_mark, '').lower()\n",
    "        listofstemmed_words.append(stemmed_word)\n",
    "\n",
    "    return listofstemmed_words"
   ]
  },
  {
   "cell_type": "markdown",
   "metadata": {},
   "source": [
    "# Use TF-IDF to vectorize the text data into vectors"
   ]
  },
  {
   "cell_type": "code",
   "execution_count": 29,
   "metadata": {},
   "outputs": [],
   "source": [
    "from sklearn.feature_extraction.text import TfidfVectorizer\n",
    "\n",
    "vect = TfidfVectorizer(min_df=5, tokenizer=my_tokenizer, ngram_range = (1,3)).fit(feature)"
   ]
  },
  {
   "cell_type": "markdown",
   "metadata": {},
   "source": [
    "Transform the feature data into vector"
   ]
  },
  {
   "cell_type": "code",
   "execution_count": 30,
   "metadata": {},
   "outputs": [],
   "source": [
    "x_train = vect.transform(feature)\n",
    "x_test = vect.transform(feature_test)\n",
    "y_train = target\n",
    "y_test = target_test"
   ]
  },
  {
   "cell_type": "code",
   "execution_count": 31,
   "metadata": {},
   "outputs": [],
   "source": [
    "from sklearn.model_selection import cross_val_score"
   ]
  },
  {
   "cell_type": "code",
   "execution_count": 32,
   "metadata": {},
   "outputs": [],
   "source": [
    "import warnings\n",
    "warnings.filterwarnings('ignore')"
   ]
  },
  {
   "cell_type": "markdown",
   "metadata": {},
   "source": [
    "# Train a logistic regression model to classify the sentiment of the input text"
   ]
  },
  {
   "cell_type": "code",
   "execution_count": 33,
   "metadata": {},
   "outputs": [],
   "source": [
    "#cross validation with 5 folds\n",
    "logistic_model = LogisticRegression()\n",
    "validation_score = cross_val_score(logistic_model, x_train, y_train, cv = 5)"
   ]
  },
  {
   "cell_type": "markdown",
   "metadata": {},
   "source": [
    "# Apply K-Fold Cross Validation method to validate my model"
   ]
  },
  {
   "cell_type": "code",
   "execution_count": 34,
   "metadata": {},
   "outputs": [
    {
     "data": {
      "text/plain": [
       "array([0.8612, 0.8506, 0.8568, 0.8548, 0.864 ])"
      ]
     },
     "execution_count": 34,
     "metadata": {},
     "output_type": "execute_result"
    }
   ],
   "source": [
    "validation_score"
   ]
  },
  {
   "cell_type": "markdown",
   "metadata": {},
   "source": [
    "Check the average validation score"
   ]
  },
  {
   "cell_type": "code",
   "execution_count": 35,
   "metadata": {},
   "outputs": [],
   "source": [
    "import numpy as np"
   ]
  },
  {
   "cell_type": "code",
   "execution_count": 36,
   "metadata": {
    "scrolled": false
   },
   "outputs": [
    {
     "name": "stdout",
     "output_type": "stream",
     "text": [
      "0.85748\n"
     ]
    }
   ],
   "source": [
    "average_validation_score = np.mean(validation_score)\n",
    "print('average_validation_score)"
   ]
  },
  {
   "cell_type": "markdown",
   "metadata": {},
   "source": [
    "score 85.748% is not bad, now we train the model and ues test dataset to check the model accuracy"
   ]
  },
  {
   "cell_type": "code",
   "execution_count": 137,
   "metadata": {},
   "outputs": [
    {
     "name": "stdout",
     "output_type": "stream",
     "text": [
      "0.94344\n",
      "0.88036\n"
     ]
    }
   ],
   "source": [
    "logistic_model = LogisticRegression().fit(x_train, y_train)\n",
    "log_train_accuracy = logistic_model.score(x_train, y_train)\n",
    "log_test_accuracy = logistic_model.score(x_test, y_test)\n",
    "print(log_train_accuracy)\n",
    "print(log_test_accuracy)"
   ]
  },
  {
   "cell_type": "markdown",
   "metadata": {},
   "source": [
    "I have train accuracy 94.344% and test accuracy 88.036% which is not bad"
   ]
  },
  {
   "cell_type": "markdown",
   "metadata": {},
   "source": [
    "model accuracy is only one of many measurement for model performance, let's apply other method to measure the model performance"
   ]
  },
  {
   "cell_type": "markdown",
   "metadata": {},
   "source": [
    "# Precision, Recall, F1-score"
   ]
  },
  {
   "cell_type": "code",
   "execution_count": 49,
   "metadata": {},
   "outputs": [],
   "source": [
    "from sklearn.metrics import precision_score\n",
    "from sklearn.metrics import recall_score\n",
    "from sklearn.metrics import f1_score"
   ]
  },
  {
   "cell_type": "markdown",
   "metadata": {},
   "source": [
    "use my model to make prediction with input train data and test data"
   ]
  },
  {
   "cell_type": "code",
   "execution_count": 91,
   "metadata": {},
   "outputs": [],
   "source": [
    "y_train_pred = logistic_model.predict(x_train)\n",
    "y_test_pred = logistic_model.predict(x_test)"
   ]
  },
  {
   "cell_type": "markdown",
   "metadata": {},
   "source": [
    "convert binary outcome from string 'pos', 'neg' to numerical value 1 and 0"
   ]
  },
  {
   "cell_type": "code",
   "execution_count": 98,
   "metadata": {},
   "outputs": [],
   "source": [
    "y_train = y_train.replace('pos',1)\n",
    "y_train = y_train.replace('neg',0)"
   ]
  },
  {
   "cell_type": "code",
   "execution_count": 105,
   "metadata": {},
   "outputs": [],
   "source": [
    "y_test = y_test.replace('pos',1)\n",
    "y_test = y_test.replace('neg',0)"
   ]
  },
  {
   "cell_type": "code",
   "execution_count": 100,
   "metadata": {},
   "outputs": [],
   "source": [
    "y_train_pred = pd.Series(y_train_pred)\n",
    "y_test_pred = pd.Series(y_test_pred)"
   ]
  },
  {
   "cell_type": "code",
   "execution_count": 102,
   "metadata": {},
   "outputs": [],
   "source": [
    "y_train_pred = y_train_pred.replace('pos',1)\n",
    "y_train_pred = y_train_pred.replace('neg',0)\n",
    "y_test_pred = y_test_pred.replace('pos',1)\n",
    "y_test_pred = y_test_pred.replace('neg',0)"
   ]
  },
  {
   "cell_type": "code",
   "execution_count": 114,
   "metadata": {},
   "outputs": [
    {
     "name": "stdout",
     "output_type": "stream",
     "text": [
      "Train Precision: 0.9359075180874489\n",
      "Train Recall:0.95208\n",
      "Test Precision:0.8780313270255228\n",
      "Test Recall:0.88344\n",
      "Train F1: 0.9439244923857869\n",
      "Test F1:0.8807273597320253\n"
     ]
    }
   ],
   "source": [
    "print(f\"Train Precision: {precision_score(y_train, y_train_pred)}\")\n",
    "print(f\"Train Recall:{recall_score(y_train, y_train_pred)}\")\n",
    "\n",
    "\n",
    "print(f\"Test Precision:{precision_score(y_test, y_test_pred)}\")\n",
    "print(f\"Test Recall:{recall_score(y_test, y_test_pred)}\")\n",
    "\n",
    "print(f\"Train F1: {f1_score(y_train, y_train_pred)}\")\n",
    "print(f\"Test F1:{f1_score(y_test, y_test_pred)}\")"
   ]
  },
  {
   "cell_type": "markdown",
   "metadata": {},
   "source": [
    "# Now try another methodology: Random Forest model"
   ]
  },
  {
   "cell_type": "code",
   "execution_count": 115,
   "metadata": {},
   "outputs": [],
   "source": [
    "from sklearn.ensemble import RandomForestClassifier\n",
    "import matplotlib.pyplot as plt"
   ]
  },
  {
   "cell_type": "code",
   "execution_count": 116,
   "metadata": {},
   "outputs": [],
   "source": [
    "estimators = [20,50,80,100,150,200,250,300]"
   ]
  },
  {
   "cell_type": "markdown",
   "metadata": {},
   "source": [
    "try different number of estimators in order to find the hyperparameter"
   ]
  },
  {
   "cell_type": "code",
   "execution_count": 117,
   "metadata": {},
   "outputs": [],
   "source": [
    "train_accuracy = []\n",
    "test_accuracy = []\n",
    "\n",
    "for estimators in estimators:\n",
    "    # instantiate the model\n",
    "    my_random_forest = RandomForestClassifier(n_estimators=estimators)\n",
    "    # fit the model\n",
    "    my_random_forest.fit(x_train, y_train)\n",
    "    # accuracy score\n",
    "    train_score = my_random_forest.score(x_train,y_train)\n",
    "    test_score = my_random_forest.score(x_test,y_test)\n",
    "    \n",
    "    train_accuracy.append(train_score)\n",
    "    test_accuracy.append(test_score)    "
   ]
  },
  {
   "cell_type": "code",
   "execution_count": 118,
   "metadata": {},
   "outputs": [
    {
     "data": {
      "image/png": "[encoded data removed]",
      "text/plain": [
       "<Figure size 432x288 with 1 Axes>"
      ]
     },
     "metadata": {
      "needs_background": "light"
     },
     "output_type": "display_data"
    }
   ],
   "source": [
    "plt.plot([20,50,80,100,150,200,250,300],train_accuracy,label=\"train_accuracy_scores\")\n",
    "plt.plot([20,50,80,100,150,200,250,300],test_accuracy,label=\"test_accuracy_scores\")\n",
    "plt.ylabel('model accuracy score')\n",
    "plt.xlabel('number of estimators')\n",
    "plt.legend()\n",
    "plt.show()"
   ]
  },
  {
   "cell_type": "markdown",
   "metadata": {},
   "source": [
    "after the estimator is bigger than 250, the accuracy only increase very little, so 250 estimators is a ideal number"
   ]
  },
  {
   "cell_type": "code",
   "execution_count": 119,
   "metadata": {},
   "outputs": [],
   "source": [
    "# instantiate the model\n",
    "my_random_forest = RandomForestClassifier(n_estimators=250)\n",
    "# fit the model\n",
    "my_random_forest.fit(x_train, y_train)\n",
    "# accuracy score\n",
    "train_score = my_random_forest.score(x_train,y_train)\n",
    "test_score = my_random_forest.score(x_test,y_test)"
   ]
  },
  {
   "cell_type": "code",
   "execution_count": 120,
   "metadata": {},
   "outputs": [
    {
     "name": "stdout",
     "output_type": "stream",
     "text": [
      "train accuracy 1.0\n",
      "test accuracy 0.85296\n"
     ]
    }
   ],
   "source": [
    "print('train accuracy',train_score)\n",
    "print('test accuracy', test_score)"
   ]
  },
  {
   "cell_type": "markdown",
   "metadata": {},
   "source": [
    "use random forest model to make prediction "
   ]
  },
  {
   "cell_type": "code",
   "execution_count": 122,
   "metadata": {},
   "outputs": [],
   "source": [
    "y_train_pred = my_random_forest.predict(x_train)\n",
    "y_test_pred = my_random_forest.predict(x_test)"
   ]
  },
  {
   "cell_type": "code",
   "execution_count": 125,
   "metadata": {},
   "outputs": [
    {
     "name": "stdout",
     "output_type": "stream",
     "text": [
      "Train Precision: 1.0\n",
      "Train Recall:1.0\n",
      "Test Precision:0.8588742476004555\n",
      "Test Recall:0.84472\n",
      "Train F1: 1.0\n",
      "Test F1:0.8517383237880132\n"
     ]
    }
   ],
   "source": [
    "print(f\"Train Precision: {precision_score(y_train, y_train_pred)}\")\n",
    "print(f\"Train Recall:{recall_score(y_train, y_train_pred)}\")\n",
    "\n",
    "\n",
    "print(f\"Test Precision:{precision_score(y_test, y_test_pred)}\")\n",
    "print(f\"Test Recall:{recall_score(y_test, y_test_pred)}\")\n",
    "\n",
    "print(f\"Train F1: {f1_score(y_train, y_train_pred)}\")\n",
    "print(f\"Test F1:{f1_score(y_test, y_test_pred)}\")"
   ]
  },
  {
   "cell_type": "markdown",
   "metadata": {},
   "source": [
    "# Now, try Support Vector Machines"
   ]
  },
  {
   "cell_type": "code",
   "execution_count": 126,
   "metadata": {},
   "outputs": [],
   "source": [
    "from sklearn.svm import SVC"
   ]
  },
  {
   "cell_type": "code",
   "execution_count": 127,
   "metadata": {},
   "outputs": [],
   "source": [
    "my_kernel_SVM = SVC()\n",
    "my_kernel_SVM.fit(x_train,y_train)\n",
    "train_accuracy = my_kernel_SVM.score(x_train,y_train)\n",
    "test_accuracy = my_kernel_SVM.score(x_test,y_test)"
   ]
  },
  {
   "cell_type": "code",
   "execution_count": 128,
   "metadata": {},
   "outputs": [
    {
     "name": "stdout",
     "output_type": "stream",
     "text": [
      "train accuracy 0.75864\n",
      "test accuracy 0.75164\n"
     ]
    }
   ],
   "source": [
    "print('train accuracy',train_accuracy)\n",
    "print('test accuracy', test_accuracy)"
   ]
  },
  {
   "cell_type": "markdown",
   "metadata": {},
   "source": [
    "use svm to make prediction"
   ]
  },
  {
   "cell_type": "code",
   "execution_count": 129,
   "metadata": {},
   "outputs": [],
   "source": [
    "y_train_pred = my_kernel_SVM.predict(x_train)\n",
    "y_test_pred = my_kernel_SVM.predict(x_test)"
   ]
  },
  {
   "cell_type": "code",
   "execution_count": 130,
   "metadata": {},
   "outputs": [
    {
     "name": "stdout",
     "output_type": "stream",
     "text": [
      "Train Precision: 0.6843005358568008\n",
      "Train Recall:0.96032\n",
      "Test Precision:0.6807031653932326\n",
      "Test Recall:0.94792\n",
      "Train F1: 0.7991478596631382\n",
      "Test F1:0.7923897415320827\n"
     ]
    }
   ],
   "source": [
    "print(f\"Train Precision: {precision_score(y_train, y_train_pred)}\")\n",
    "print(f\"Train Recall:{recall_score(y_train, y_train_pred)}\")\n",
    "\n",
    "\n",
    "print(f\"Test Precision:{precision_score(y_test, y_test_pred)}\")\n",
    "print(f\"Test Recall:{recall_score(y_test, y_test_pred)}\")\n",
    "\n",
    "print(f\"Train F1: {f1_score(y_train, y_train_pred)}\")\n",
    "print(f\"Test F1:{f1_score(y_test, y_test_pred)}\")"
   ]
  },
  {
   "cell_type": "markdown",
   "metadata": {},
   "source": [
    "# Now, try VotingClassifier ensembling with logistic model,random_forest and SVM model"
   ]
  },
  {
   "cell_type": "code",
   "execution_count": 131,
   "metadata": {},
   "outputs": [],
   "source": [
    "from sklearn.ensemble import VotingClassifier"
   ]
  },
  {
   "cell_type": "code",
   "execution_count": 134,
   "metadata": {},
   "outputs": [],
   "source": [
    "ensemble = VotingClassifier(estimators=[('logisic model', logistic_model),\\\n",
    "                                        ('random_forest', my_random_forest),\\\n",
    "                                        ('SVM Model', my_kernel_SVM)],\\\n",
    "                                        voting=\"hard\",\\\n",
    "                                        weights = [1,1,1])"
   ]
  },
  {
   "cell_type": "code",
   "execution_count": 135,
   "metadata": {},
   "outputs": [
    {
     "data": {
      "text/plain": [
       "VotingClassifier(estimators=[('logisic model', LogisticRegression(C=1.0, class_weight=None, dual=False, fit_intercept=True,\n",
       "          intercept_scaling=1, max_iter=100, multi_class='warn',\n",
       "          n_jobs=None, penalty='l2', random_state=None, solver='warn',\n",
       "          tol=0.0001, verbose=0, warm_start=False)), ('ra...f', max_iter=-1, probability=False, random_state=None,\n",
       "  shrinking=True, tol=0.001, verbose=False))],\n",
       "         flatten_transform=None, n_jobs=None, voting='hard',\n",
       "         weights=[1, 1, 1])"
      ]
     },
     "execution_count": 135,
     "metadata": {},
     "output_type": "execute_result"
    }
   ],
   "source": [
    "ensemble.fit(x_train,y_train)"
   ]
  },
  {
   "cell_type": "code",
   "execution_count": 136,
   "metadata": {},
   "outputs": [],
   "source": [
    "ensemble_accuracy = ensemble.score(x_test, y_test)"
   ]
  },
  {
   "cell_type": "code",
   "execution_count": 139,
   "metadata": {},
   "outputs": [
    {
     "name": "stdout",
     "output_type": "stream",
     "text": [
      "0.86704\n"
     ]
    }
   ],
   "source": [
    "print(ensemble_accuracy)"
   ]
  },
  {
   "cell_type": "code",
   "execution_count": 141,
   "metadata": {},
   "outputs": [],
   "source": [
    "logistic_accuracy = log_test_accuracy\n",
    "Random_forest_accuracy = test_score\n",
    "svm_accuracy = test_accuracy"
   ]
  },
  {
   "cell_type": "code",
   "execution_count": 143,
   "metadata": {},
   "outputs": [],
   "source": [
    "accuracy = [ensemble_accuracy, logistic_accuracy, Random_forest_accuracy,svm_accuracy]"
   ]
  },
  {
   "cell_type": "code",
   "execution_count": 144,
   "metadata": {},
   "outputs": [
    {
     "data": {
      "text/plain": [
       "[0.86704, 0.88036, 0.85296, 0.75164]"
      ]
     },
     "execution_count": 144,
     "metadata": {},
     "output_type": "execute_result"
    }
   ],
   "source": [
    "accuracy"
   ]
  },
  {
   "cell_type": "code",
   "execution_count": 148,
   "metadata": {},
   "outputs": [],
   "source": [
    "models = ['ensemble', 'logistic', 'Random_forest', 'SVM']"
   ]
  },
  {
   "cell_type": "code",
   "execution_count": 149,
   "metadata": {},
   "outputs": [
    {
     "data": {
      "text/plain": [
       "Text(0.5, 1.0, 'Compare model accuracy among voting, logistic model, random_forest and SVM Model')"
      ]
     },
     "execution_count": 149,
     "metadata": {},
     "output_type": "execute_result"
    },
    {
     "data": {
      "image/png": "[encoded data removed]",
      "text/plain": [
       "<Figure size 432x288 with 1 Axes>"
      ]
     },
     "metadata": {
      "needs_background": "light"
     },
     "output_type": "display_data"
    }
   ],
   "source": [
    "plt.plot(models,accuracy,color='green', marker='o', linestyle='dashed')\n",
    "plt.xlabel('Models')\n",
    "plt.ylabel('Accuracy')\n",
    "plt.title('Compare model accuracy among voting, logistic model, random_forest and SVM Model')"
   ]
  },
  {
   "cell_type": "markdown",
   "metadata": {},
   "source": [
    "as we can see above, the logistic regression has highest accuracy which is 0.88036"
   ]
  },
  {
   "cell_type": "markdown",
   "metadata": {},
   "source": [
    "save my logistic model"
   ]
  },
  {
   "cell_type": "code",
   "execution_count": 151,
   "metadata": {},
   "outputs": [],
   "source": [
    "from sklearn.externals import joblib"
   ]
  },
  {
   "cell_type": "code",
   "execution_count": 152,
   "metadata": {},
   "outputs": [
    {
     "data": {
      "text/plain": [
       "['logistic_model.sav']"
      ]
     },
     "execution_count": 152,
     "metadata": {},
     "output_type": "execute_result"
    }
   ],
   "source": [
    "filename = 'logistic_model.sav'\n",
    "joblib.dump(logistic_model, filename)"
   ]
  },
  {
   "cell_type": "code",
   "execution_count": 153,
   "metadata": {},
   "outputs": [
    {
     "name": "stdout",
     "output_type": "stream",
     "text": [
      "0.88036\n"
     ]
    }
   ],
   "source": [
    "loaded_model = joblib.load(filename)\n",
    "result = loaded_model.score(x_test, y_test)\n",
    "print(result)"
   ]
  }
 ],
 "metadata": {
  "kernelspec": {
   "display_name": "Python 3",
   "language": "python",
   "name": "python3"
  },
  "language_info": {
   "codemirror_mode": {
    "name": "ipython",
    "version": 3
   },
   "file_extension": ".py",
   "mimetype": "text/x-python",
   "name": "python",
   "nbconvert_exporter": "python",
   "pygments_lexer": "ipython3",
   "version": "3.7.3"
  }
 },
 "nbformat": 4,
 "nbformat_minor": 2
}
